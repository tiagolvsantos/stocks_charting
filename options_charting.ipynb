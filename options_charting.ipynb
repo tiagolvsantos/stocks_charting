{
 "cells": [
  {
   "cell_type": "code",
   "source": "# imports libraries\nimport yfinance as yf\nimport pandas as pd\nimport numpy as np\nimport plotly.express as px\nimport matplotlib.pyplot as plt\nimport sys",
   "metadata": {
    "tags": [],
    "cell_id": "00000-4b28ce50-ab15-404e-8fe5-203cfb2060c4",
    "deepnote_to_be_reexecuted": false,
    "source_hash": "fbfe5115",
    "execution_start": 1627317008654,
    "execution_millis": 564,
    "deepnote_cell_type": "code"
   },
   "outputs": [],
   "execution_count": 1
  },
  {
   "cell_type": "code",
   "source": "# Functions \ndef getOptionCalls(ticker_symbol,period):\n    try:\n        ticker = yf.Ticker(ticker_symbol)\n        #Expiration periods\n        option_chain = ticker.option_chain(ticker.options[period])\n        return option_chain[0]\n    except NameError:\n        return NameError    \n\ndef getOptionPuts(ticker_symbol,period):\n    try:\n        ticker = yf.Ticker(ticker_symbol)\n        #Expiration periods\n        option_chain = ticker.option_chain(ticker.options[period])\n        return option_chain[1]\n    except NameError:\n        return NameError \n\ndef getOptionChainExpireDates(ticker_symbol):\n    try:\n        ticker = yf.Ticker(ticker_symbol)\n        return ticker.options\n    except NameError:\n        return NameError",
   "metadata": {
    "tags": [],
    "cell_id": "00001-b1419ea3-bf26-4aa6-bd42-3e5a8a432394",
    "deepnote_to_be_reexecuted": false,
    "source_hash": "552dc5f7",
    "execution_start": 1627317548540,
    "execution_millis": 5,
    "deepnote_cell_type": "code"
   },
   "outputs": [],
   "execution_count": 10
  },
  {
   "cell_type": "markdown",
   "source": "### Select a ticker",
   "metadata": {
    "tags": [],
    "is_collapsed": false,
    "cell_id": "00002-a106ead5-6e52-4a82-8fbb-6bb83ee13ccc",
    "deepnote_cell_type": "text-cell-h3"
   }
  },
  {
   "cell_type": "code",
   "source": "# Choose your ticker here. It should be according to yahoo finance\nsymbol=\"NFLX\"",
   "metadata": {
    "tags": [],
    "cell_id": "00003-b9bd5ec7-a4cd-4be0-9ebf-dde40fa0b469",
    "deepnote_to_be_reexecuted": false,
    "source_hash": "2bc8eb5d",
    "execution_start": 1627317911359,
    "execution_millis": 0,
    "deepnote_cell_type": "code"
   },
   "outputs": [],
   "execution_count": 17
  },
  {
   "cell_type": "code",
   "source": "# Expirations\noptions_expirations = getOptionChainExpireDates(symbol)\n(pd.DataFrame(options_expirations)).rename(columns={0:\"expirations\"})",
   "metadata": {
    "tags": [],
    "cell_id": "00004-e9bf6177-20cd-4bb6-b4c1-70b55a90bf8b",
    "deepnote_to_be_reexecuted": false,
    "source_hash": "47e24c1f",
    "execution_start": 1627318241102,
    "execution_millis": 72,
    "deepnote_cell_type": "code"
   },
   "outputs": [
    {
     "output_type": "execute_result",
     "execution_count": 22,
     "data": {
      "application/vnd.deepnote.dataframe.v2+json": {
       "row_count": 16,
       "column_count": 1,
       "columns": [
        {
         "name": "expirations",
         "dtype": "object",
         "stats": {
          "unique_count": 16,
          "nan_count": 0,
          "categories": [
           {
            "name": "2021-07-30",
            "count": 1
           },
           {
            "name": "2021-08-06",
            "count": 1
           },
           {
            "name": "14 others",
            "count": 14
           }
          ]
         }
        },
        {
         "name": "_deepnote_index_column",
         "dtype": "int64"
        }
       ],
       "rows_top": [
        {
         "expirations": "2021-07-30",
         "_deepnote_index_column": 0
        },
        {
         "expirations": "2021-08-06",
         "_deepnote_index_column": 1
        },
        {
         "expirations": "2021-08-13",
         "_deepnote_index_column": 2
        },
        {
         "expirations": "2021-08-20",
         "_deepnote_index_column": 3
        },
        {
         "expirations": "2021-08-27",
         "_deepnote_index_column": 4
        },
        {
         "expirations": "2021-09-03",
         "_deepnote_index_column": 5
        },
        {
         "expirations": "2021-09-17",
         "_deepnote_index_column": 6
        },
        {
         "expirations": "2021-10-15",
         "_deepnote_index_column": 7
        },
        {
         "expirations": "2021-11-19",
         "_deepnote_index_column": 8
        },
        {
         "expirations": "2021-12-17",
         "_deepnote_index_column": 9
        },
        {
         "expirations": "2022-01-21",
         "_deepnote_index_column": 10
        },
        {
         "expirations": "2022-03-18",
         "_deepnote_index_column": 11
        },
        {
         "expirations": "2022-06-17",
         "_deepnote_index_column": 12
        },
        {
         "expirations": "2022-09-16",
         "_deepnote_index_column": 13
        },
        {
         "expirations": "2023-01-20",
         "_deepnote_index_column": 14
        },
        {
         "expirations": "2023-03-17",
         "_deepnote_index_column": 15
        }
       ],
       "rows_bottom": null
      },
      "text/plain": "   expirations\n0   2021-07-30\n1   2021-08-06\n2   2021-08-13\n3   2021-08-20\n4   2021-08-27\n5   2021-09-03\n6   2021-09-17\n7   2021-10-15\n8   2021-11-19\n9   2021-12-17\n10  2022-01-21\n11  2022-03-18\n12  2022-06-17\n13  2022-09-16\n14  2023-01-20\n15  2023-03-17",
      "text/html": "<div>\n<style scoped>\n    .dataframe tbody tr th:only-of-type {\n        vertical-align: middle;\n    }\n\n    .dataframe tbody tr th {\n        vertical-align: top;\n    }\n\n    .dataframe thead th {\n        text-align: right;\n    }\n</style>\n<table border=\"1\" class=\"dataframe\">\n  <thead>\n    <tr style=\"text-align: right;\">\n      <th></th>\n      <th>expirations</th>\n    </tr>\n  </thead>\n  <tbody>\n    <tr>\n      <th>0</th>\n      <td>2021-07-30</td>\n    </tr>\n    <tr>\n      <th>1</th>\n      <td>2021-08-06</td>\n    </tr>\n    <tr>\n      <th>2</th>\n      <td>2021-08-13</td>\n    </tr>\n    <tr>\n      <th>3</th>\n      <td>2021-08-20</td>\n    </tr>\n    <tr>\n      <th>4</th>\n      <td>2021-08-27</td>\n    </tr>\n    <tr>\n      <th>5</th>\n      <td>2021-09-03</td>\n    </tr>\n    <tr>\n      <th>6</th>\n      <td>2021-09-17</td>\n    </tr>\n    <tr>\n      <th>7</th>\n      <td>2021-10-15</td>\n    </tr>\n    <tr>\n      <th>8</th>\n      <td>2021-11-19</td>\n    </tr>\n    <tr>\n      <th>9</th>\n      <td>2021-12-17</td>\n    </tr>\n    <tr>\n      <th>10</th>\n      <td>2022-01-21</td>\n    </tr>\n    <tr>\n      <th>11</th>\n      <td>2022-03-18</td>\n    </tr>\n    <tr>\n      <th>12</th>\n      <td>2022-06-17</td>\n    </tr>\n    <tr>\n      <th>13</th>\n      <td>2022-09-16</td>\n    </tr>\n    <tr>\n      <th>14</th>\n      <td>2023-01-20</td>\n    </tr>\n    <tr>\n      <th>15</th>\n      <td>2023-03-17</td>\n    </tr>\n  </tbody>\n</table>\n</div>"
     },
     "metadata": {}
    }
   ],
   "execution_count": 22
  },
  {
   "cell_type": "markdown",
   "source": "### Select an expiration date",
   "metadata": {
    "tags": [],
    "is_collapsed": false,
    "cell_id": "00005-c8d62d51-a66f-4f0e-a582-e5f74e50b9e4",
    "deepnote_cell_type": "text-cell-h3"
   }
  },
  {
   "cell_type": "code",
   "source": "# Use the number before the expiration date\nperiod = 4",
   "metadata": {
    "tags": [],
    "cell_id": "00005-cc34629b-9b57-41bb-82e1-d056081043df",
    "deepnote_to_be_reexecuted": false,
    "source_hash": "4a9fc85d",
    "execution_start": 1627318776210,
    "execution_millis": 0,
    "deepnote_cell_type": "code"
   },
   "outputs": [],
   "execution_count": 34
  },
  {
   "cell_type": "code",
   "source": "# Compute data\n# Options charting PUTS + CALLS\noptions_puts=getOptionPuts(symbol,period)\noptions_puts[\"Option\"]=\"PUT\"\noptions_calls=getOptionCalls(symbol,period)\noptions_calls[\"Option\"]=\"CALL\"\ndf_options = pd.concat([options_calls, options_puts], axis=0)",
   "metadata": {
    "tags": [],
    "cell_id": "00004-05fcd4ef-3b9a-4815-8745-2b889208cfde",
    "deepnote_to_be_reexecuted": false,
    "source_hash": "d5a531a2",
    "execution_start": 1627318309989,
    "execution_millis": 298,
    "deepnote_cell_type": "code"
   },
   "outputs": [],
   "execution_count": 24
  },
  {
   "cell_type": "code",
   "source": "df_options",
   "metadata": {
    "tags": [],
    "cell_id": "00008-331d882f-0a01-4e41-b7a3-f909f9436482",
    "deepnote_to_be_reexecuted": false,
    "source_hash": "a507c97f",
    "execution_start": 1627318485781,
    "execution_millis": 112,
    "deepnote_cell_type": "code"
   },
   "outputs": [
    {
     "output_type": "execute_result",
     "execution_count": 26,
     "data": {
      "application/vnd.deepnote.dataframe.v2+json": {
       "row_count": 95,
       "column_count": 15,
       "columns": [
        {
         "name": "contractSymbol",
         "dtype": "object",
         "stats": {
          "unique_count": 95,
          "nan_count": 0,
          "categories": [
           {
            "name": "NFLX210827C00400000",
            "count": 1
           },
           {
            "name": "NFLX210827C00450000",
            "count": 1
           },
           {
            "name": "93 others",
            "count": 93
           }
          ]
         }
        },
        {
         "name": "lastTradeDate",
         "dtype": "datetime64[ns]",
         "stats": {
          "unique_count": 86,
          "nan_count": 0,
          "min": "2021-07-19 04:00:38",
          "max": "2021-07-26 16:34:25",
          "histogram": [
           {
            "bin_start": 1626667238000000000,
            "bin_end": 1626732240700000000,
            "count": 10
           },
           {
            "bin_start": 1626732240700000000,
            "bin_end": 1626797243400000000,
            "count": 1
           },
           {
            "bin_start": 1626797243400000000,
            "bin_end": 1626862246100000000,
            "count": 5
           },
           {
            "bin_start": 1626862246100000000,
            "bin_end": 1626927248800000000,
            "count": 12
           },
           {
            "bin_start": 1626927248800000000,
            "bin_end": 1626992251500000000,
            "count": 11
           },
           {
            "bin_start": 1626992251500000000,
            "bin_end": 1627057254200000000,
            "count": 7
           },
           {
            "bin_start": 1627057254200000000,
            "bin_end": 1627122256900000000,
            "count": 13
           },
           {
            "bin_start": 1627122256900000000,
            "bin_end": 1627187259600000000,
            "count": 0
           },
           {
            "bin_start": 1627187259600000000,
            "bin_end": 1627252262300000000,
            "count": 0
           },
           {
            "bin_start": 1627252262300000000,
            "bin_end": 1627317265000000000,
            "count": 36
           }
          ]
         }
        },
        {
         "name": "strike",
         "dtype": "float64",
         "stats": {
          "unique_count": 67,
          "nan_count": 0,
          "min": "300.0",
          "max": "800.0",
          "histogram": [
           {
            "bin_start": 300,
            "bin_end": 350,
            "count": 4
           },
           {
            "bin_start": 350,
            "bin_end": 400,
            "count": 7
           },
           {
            "bin_start": 400,
            "bin_end": 450,
            "count": 11
           },
           {
            "bin_start": 450,
            "bin_end": 500,
            "count": 20
           },
           {
            "bin_start": 500,
            "bin_end": 550,
            "count": 20
           },
           {
            "bin_start": 550,
            "bin_end": 600,
            "count": 15
           },
           {
            "bin_start": 600,
            "bin_end": 650,
            "count": 5
           },
           {
            "bin_start": 650,
            "bin_end": 700,
            "count": 5
           },
           {
            "bin_start": 700,
            "bin_end": 750,
            "count": 4
           },
           {
            "bin_start": 750,
            "bin_end": 800,
            "count": 4
           }
          ]
         }
        },
        {
         "name": "lastPrice",
         "dtype": "float64",
         "stats": {
          "unique_count": 85,
          "nan_count": 0,
          "min": "0.13",
          "max": "109.8",
          "histogram": [
           {
            "bin_start": 0.13,
            "bin_end": 11.097000000000001,
            "count": 64
           },
           {
            "bin_start": 11.097000000000001,
            "bin_end": 22.064,
            "count": 8
           },
           {
            "bin_start": 22.064,
            "bin_end": 33.031000000000006,
            "count": 5
           },
           {
            "bin_start": 33.031000000000006,
            "bin_end": 43.998000000000005,
            "count": 7
           },
           {
            "bin_start": 43.998000000000005,
            "bin_end": 54.965,
            "count": 3
           },
           {
            "bin_start": 54.965,
            "bin_end": 65.932,
            "count": 3
           },
           {
            "bin_start": 65.932,
            "bin_end": 76.899,
            "count": 2
           },
           {
            "bin_start": 76.899,
            "bin_end": 87.866,
            "count": 2
           },
           {
            "bin_start": 87.866,
            "bin_end": 98.833,
            "count": 0
           },
           {
            "bin_start": 98.833,
            "bin_end": 109.8,
            "count": 1
           }
          ]
         }
        },
        {
         "name": "bid",
         "dtype": "float64",
         "stats": {
          "unique_count": 83,
          "nan_count": 0,
          "min": "0.0",
          "max": "117.85",
          "histogram": [
           {
            "bin_start": 0,
            "bin_end": 11.785,
            "count": 64
           },
           {
            "bin_start": 11.785,
            "bin_end": 23.57,
            "count": 9
           },
           {
            "bin_start": 23.57,
            "bin_end": 35.355000000000004,
            "count": 7
           },
           {
            "bin_start": 35.355000000000004,
            "bin_end": 47.14,
            "count": 4
           },
           {
            "bin_start": 47.14,
            "bin_end": 58.925,
            "count": 5
           },
           {
            "bin_start": 58.925,
            "bin_end": 70.71000000000001,
            "count": 4
           },
           {
            "bin_start": 70.71000000000001,
            "bin_end": 82.495,
            "count": 1
           },
           {
            "bin_start": 82.495,
            "bin_end": 94.28,
            "count": 0
           },
           {
            "bin_start": 94.28,
            "bin_end": 106.065,
            "count": 0
           },
           {
            "bin_start": 106.065,
            "bin_end": 117.85,
            "count": 1
           }
          ]
         }
        },
        {
         "name": "ask",
         "dtype": "float64",
         "stats": {
          "unique_count": 90,
          "nan_count": 0,
          "min": "0.16",
          "max": "120.1",
          "histogram": [
           {
            "bin_start": 0.16,
            "bin_end": 12.154,
            "count": 64
           },
           {
            "bin_start": 12.154,
            "bin_end": 24.148,
            "count": 9
           },
           {
            "bin_start": 24.148,
            "bin_end": 36.141999999999996,
            "count": 6
           },
           {
            "bin_start": 36.141999999999996,
            "bin_end": 48.135999999999996,
            "count": 5
           },
           {
            "bin_start": 48.135999999999996,
            "bin_end": 60.129999999999995,
            "count": 5
           },
           {
            "bin_start": 60.129999999999995,
            "bin_end": 72.124,
            "count": 4
           },
           {
            "bin_start": 72.124,
            "bin_end": 84.118,
            "count": 1
           },
           {
            "bin_start": 84.118,
            "bin_end": 96.112,
            "count": 0
           },
           {
            "bin_start": 96.112,
            "bin_end": 108.106,
            "count": 0
           },
           {
            "bin_start": 108.106,
            "bin_end": 120.1,
            "count": 1
           }
          ]
         }
        },
        {
         "name": "change",
         "dtype": "float64",
         "stats": {
          "unique_count": 43,
          "nan_count": 0,
          "min": "-1.499999",
          "max": "6.8999996",
          "histogram": [
           {
            "bin_start": -1.499999,
            "bin_end": -0.65999914,
            "count": 7
           },
           {
            "bin_start": -0.65999914,
            "bin_end": 0.18000072,
            "count": 72
           },
           {
            "bin_start": 0.18000072,
            "bin_end": 1.0200005800000003,
            "count": 5
           },
           {
            "bin_start": 1.0200005800000003,
            "bin_end": 1.86000044,
            "count": 5
           },
           {
            "bin_start": 1.86000044,
            "bin_end": 2.7000003,
            "count": 3
           },
           {
            "bin_start": 2.7000003,
            "bin_end": 3.540000160000001,
            "count": 2
           },
           {
            "bin_start": 3.540000160000001,
            "bin_end": 4.380000020000001,
            "count": 0
           },
           {
            "bin_start": 4.380000020000001,
            "bin_end": 5.2199998800000005,
            "count": 0
           },
           {
            "bin_start": 5.2199998800000005,
            "bin_end": 6.05999974,
            "count": 0
           },
           {
            "bin_start": 6.05999974,
            "bin_end": 6.8999996,
            "count": 1
           }
          ]
         }
        },
        {
         "name": "percentChange",
         "dtype": "float64",
         "stats": {
          "unique_count": 44,
          "nan_count": 0,
          "min": "-30.973452",
          "max": "25.814537",
          "histogram": [
           {
            "bin_start": -30.973452,
            "bin_end": -25.2946531,
            "count": 3
           },
           {
            "bin_start": -25.2946531,
            "bin_end": -19.6158542,
            "count": 0
           },
           {
            "bin_start": -19.6158542,
            "bin_end": -13.9370553,
            "count": 4
           },
           {
            "bin_start": -13.9370553,
            "bin_end": -8.2582564,
            "count": 9
           },
           {
            "bin_start": -8.2582564,
            "bin_end": -2.5794575,
            "count": 6
           },
           {
            "bin_start": -2.5794575,
            "bin_end": 3.0993414,
            "count": 52
           },
           {
            "bin_start": 3.0993414,
            "bin_end": 8.778140299999997,
            "count": 3
           },
           {
            "bin_start": 8.778140299999997,
            "bin_end": 14.4569392,
            "count": 8
           },
           {
            "bin_start": 14.4569392,
            "bin_end": 20.135738100000005,
            "count": 7
           },
           {
            "bin_start": 20.135738100000005,
            "bin_end": 25.814537,
            "count": 3
           }
          ]
         }
        },
        {
         "name": "volume",
         "dtype": "float64",
         "stats": {
          "unique_count": 36,
          "nan_count": 15,
          "min": "1.0",
          "max": "410.0",
          "histogram": [
           {
            "bin_start": 1,
            "bin_end": 41.9,
            "count": 68
           },
           {
            "bin_start": 41.9,
            "bin_end": 82.8,
            "count": 6
           },
           {
            "bin_start": 82.8,
            "bin_end": 123.69999999999999,
            "count": 3
           },
           {
            "bin_start": 123.69999999999999,
            "bin_end": 164.6,
            "count": 2
           },
           {
            "bin_start": 164.6,
            "bin_end": 205.5,
            "count": 0
           },
           {
            "bin_start": 205.5,
            "bin_end": 246.39999999999998,
            "count": 0
           },
           {
            "bin_start": 246.39999999999998,
            "bin_end": 287.3,
            "count": 0
           },
           {
            "bin_start": 287.3,
            "bin_end": 328.2,
            "count": 0
           },
           {
            "bin_start": 328.2,
            "bin_end": 369.09999999999997,
            "count": 0
           },
           {
            "bin_start": 369.09999999999997,
            "bin_end": 410,
            "count": 1
           }
          ]
         }
        },
        {
         "name": "openInterest",
         "dtype": "int64",
         "stats": {
          "unique_count": 68,
          "nan_count": 0,
          "min": "1",
          "max": "1008",
          "histogram": [
           {
            "bin_start": 1,
            "bin_end": 101.7,
            "count": 65
           },
           {
            "bin_start": 101.7,
            "bin_end": 202.4,
            "count": 16
           },
           {
            "bin_start": 202.4,
            "bin_end": 303.1,
            "count": 8
           },
           {
            "bin_start": 303.1,
            "bin_end": 403.8,
            "count": 3
           },
           {
            "bin_start": 403.8,
            "bin_end": 504.5,
            "count": 0
           },
           {
            "bin_start": 504.5,
            "bin_end": 605.2,
            "count": 1
           },
           {
            "bin_start": 605.2,
            "bin_end": 705.9,
            "count": 1
           },
           {
            "bin_start": 705.9,
            "bin_end": 806.6,
            "count": 0
           },
           {
            "bin_start": 806.6,
            "bin_end": 907.3000000000001,
            "count": 0
           },
           {
            "bin_start": 907.3000000000001,
            "bin_end": 1008,
            "count": 1
           }
          ]
         }
        },
        {
         "name": "impliedVolatility",
         "dtype": "float64",
         "stats": {
          "unique_count": 93,
          "nan_count": 0,
          "min": "0.23938748901367185",
          "max": "0.6699251757812501",
          "histogram": [
           {
            "bin_start": 0.23938748901367185,
            "bin_end": 0.28244125769042966,
            "count": 41
           },
           {
            "bin_start": 0.28244125769042966,
            "bin_end": 0.3254950263671875,
            "count": 12
           },
           {
            "bin_start": 0.3254950263671875,
            "bin_end": 0.36854879504394533,
            "count": 10
           },
           {
            "bin_start": 0.36854879504394533,
            "bin_end": 0.41160256372070314,
            "count": 9
           },
           {
            "bin_start": 0.41160256372070314,
            "bin_end": 0.45465633239746095,
            "count": 7
           },
           {
            "bin_start": 0.45465633239746095,
            "bin_end": 0.4977101010742188,
            "count": 5
           },
           {
            "bin_start": 0.4977101010742188,
            "bin_end": 0.5407638697509767,
            "count": 6
           },
           {
            "bin_start": 0.5407638697509767,
            "bin_end": 0.5838176384277345,
            "count": 2
           },
           {
            "bin_start": 0.5838176384277345,
            "bin_end": 0.6268714071044923,
            "count": 1
           },
           {
            "bin_start": 0.6268714071044923,
            "bin_end": 0.6699251757812501,
            "count": 2
           }
          ]
         }
        },
        {
         "name": "inTheMoney",
         "dtype": "bool",
         "stats": {
          "unique_count": 2,
          "nan_count": 0,
          "categories": [
           {
            "name": "False",
            "count": 67
           },
           {
            "name": "True",
            "count": 28
           }
          ]
         }
        },
        {
         "name": "contractSize",
         "dtype": "object",
         "stats": {
          "unique_count": 1,
          "nan_count": 0,
          "categories": [
           {
            "name": "REGULAR",
            "count": 95
           }
          ]
         }
        },
        {
         "name": "currency",
         "dtype": "object",
         "stats": {
          "unique_count": 1,
          "nan_count": 0,
          "categories": [
           {
            "name": "USD",
            "count": 95
           }
          ]
         }
        },
        {
         "name": "Option",
         "dtype": "object",
         "stats": {
          "unique_count": 2,
          "nan_count": 0,
          "categories": [
           {
            "name": "PUT",
            "count": 48
           },
           {
            "name": "CALL",
            "count": 47
           }
          ]
         }
        },
        {
         "name": "_deepnote_index_column",
         "dtype": "int64"
        }
       ],
       "rows_top": [
        {
         "contractSymbol": "NFLX210827C00400000",
         "lastTradeDate": "2021-07-21T14:29:31.000000",
         "strike": 400,
         "lastPrice": 109.8,
         "bid": 117.85,
         "ask": 120.1,
         "change": 0,
         "percentChange": 0,
         "volume": "nan",
         "openInterest": 2,
         "impliedVolatility": 0.553837469482422,
         "inTheMoney": "True",
         "contractSize": "REGULAR",
         "currency": "USD",
         "Option": "CALL",
         "_deepnote_index_column": 0
        },
        {
         "contractSymbol": "NFLX210827C00450000",
         "lastTradeDate": "2021-07-22T13:55:06.000000",
         "strike": 450,
         "lastPrice": 61.27,
         "bid": 68.55,
         "ask": 71.1,
         "change": 0,
         "percentChange": 0,
         "volume": "nan",
         "openInterest": 1,
         "impliedVolatility": 0.38269660278320305,
         "inTheMoney": "True",
         "contractSize": "REGULAR",
         "currency": "USD",
         "Option": "CALL",
         "_deepnote_index_column": 1
        },
        {
         "contractSymbol": "NFLX210827C00455000",
         "lastTradeDate": "2021-07-21T16:03:27.000000",
         "strike": 455,
         "lastPrice": 57.34,
         "bid": 63.65,
         "ask": 66.4,
         "change": 0,
         "percentChange": 0,
         "volume": "nan",
         "openInterest": 42,
         "impliedVolatility": 0.37085590087890624,
         "inTheMoney": "True",
         "contractSize": "REGULAR",
         "currency": "USD",
         "Option": "CALL",
         "_deepnote_index_column": 2
        },
        {
         "contractSymbol": "NFLX210827C00460000",
         "lastTradeDate": "2021-07-20T16:57:08.000000",
         "strike": 460,
         "lastPrice": 76.92,
         "bid": 59.45,
         "ask": 61.5,
         "change": 0,
         "percentChange": 0,
         "volume": 5,
         "openInterest": 7,
         "impliedVolatility": 0.35144691528320304,
         "inTheMoney": "True",
         "contractSize": "REGULAR",
         "currency": "USD",
         "Option": "CALL",
         "_deepnote_index_column": 3
        },
        {
         "contractSymbol": "NFLX210827C00465000",
         "lastTradeDate": "2021-07-21T16:03:27.000000",
         "strike": 465,
         "lastPrice": 48.43,
         "bid": 54.45,
         "ask": 57.25,
         "change": 0,
         "percentChange": 0,
         "volume": 42,
         "openInterest": 47,
         "impliedVolatility": 0.35095863891601553,
         "inTheMoney": "True",
         "contractSize": "REGULAR",
         "currency": "USD",
         "Option": "CALL",
         "_deepnote_index_column": 4
        },
        {
         "contractSymbol": "NFLX210827C00470000",
         "lastTradeDate": "2021-07-22T19:48:25.000000",
         "strike": 470,
         "lastPrice": 45.25,
         "bid": 49.8,
         "ask": 52.3,
         "change": 0,
         "percentChange": 0,
         "volume": 2,
         "openInterest": 27,
         "impliedVolatility": 0.3284674087524414,
         "inTheMoney": "True",
         "contractSize": "REGULAR",
         "currency": "USD",
         "Option": "CALL",
         "_deepnote_index_column": 5
        },
        {
         "contractSymbol": "NFLX210827C00475000",
         "lastTradeDate": "2021-07-21T14:59:27.000000",
         "strike": 475,
         "lastPrice": 41,
         "bid": 45.05,
         "ask": 47.75,
         "change": 0,
         "percentChange": 0,
         "volume": "nan",
         "openInterest": 1,
         "impliedVolatility": 0.3161079132080078,
         "inTheMoney": "True",
         "contractSize": "REGULAR",
         "currency": "USD",
         "Option": "CALL",
         "_deepnote_index_column": 6
        },
        {
         "contractSymbol": "NFLX210827C00480000",
         "lastTradeDate": "2021-07-23T14:40:46.000000",
         "strike": 480,
         "lastPrice": 32.3,
         "bid": 41.7,
         "ask": 43.15,
         "change": 0,
         "percentChange": 0,
         "volume": 1,
         "openInterest": 18,
         "impliedVolatility": 0.30097134582519536,
         "inTheMoney": "True",
         "contractSize": "REGULAR",
         "currency": "USD",
         "Option": "CALL",
         "_deepnote_index_column": 7
        },
        {
         "contractSymbol": "NFLX210827C00485000",
         "lastTradeDate": "2021-07-23T16:02:00.000000",
         "strike": 485,
         "lastPrice": 33.5,
         "bid": 37,
         "ask": 38.95,
         "change": 0,
         "percentChange": 0,
         "volume": 4,
         "openInterest": 22,
         "impliedVolatility": 0.2934335794067382,
         "inTheMoney": "True",
         "contractSize": "REGULAR",
         "currency": "USD",
         "Option": "CALL",
         "_deepnote_index_column": 8
        },
        {
         "contractSymbol": "NFLX210827C00490000",
         "lastTradeDate": "2021-07-22T13:38:32.000000",
         "strike": 490,
         "lastPrice": 34,
         "bid": 32.95,
         "ask": 34.7,
         "change": 6.8999996,
         "percentChange": 25.461252,
         "volume": 2,
         "openInterest": 85,
         "impliedVolatility": 0.28232529205322265,
         "inTheMoney": "True",
         "contractSize": "REGULAR",
         "currency": "USD",
         "Option": "CALL",
         "_deepnote_index_column": 9
        },
        {
         "contractSymbol": "NFLX210827C00495000",
         "lastTradeDate": "2021-07-23T19:54:34.000000",
         "strike": 495,
         "lastPrice": 27.92,
         "bid": 28.9,
         "ask": 30.9,
         "change": 0,
         "percentChange": 0,
         "volume": 3,
         "openInterest": 6,
         "impliedVolatility": 0.2775951147460937,
         "inTheMoney": "True",
         "contractSize": "REGULAR",
         "currency": "USD",
         "Option": "CALL",
         "_deepnote_index_column": 10
        },
        {
         "contractSymbol": "NFLX210827C00500000",
         "lastTradeDate": "2021-07-26T15:23:38.000000",
         "strike": 500,
         "lastPrice": 26.5,
         "bid": 25.6,
         "ask": 26.9,
         "change": 3.5200005,
         "percentChange": 15.317671,
         "volume": 2,
         "openInterest": 41,
         "impliedVolatility": 0.26605958557128906,
         "inTheMoney": "True",
         "contractSize": "REGULAR",
         "currency": "USD",
         "Option": "CALL",
         "_deepnote_index_column": 11
        },
        {
         "contractSymbol": "NFLX210827C00505000",
         "lastTradeDate": "2021-07-26T15:15:05.000000",
         "strike": 505,
         "lastPrice": 23.4,
         "bid": 22.05,
         "ask": 23.1,
         "change": 1.9899998,
         "percentChange": 9.294721,
         "volume": 1,
         "openInterest": 117,
         "impliedVolatility": 0.25522595367431644,
         "inTheMoney": "True",
         "contractSize": "REGULAR",
         "currency": "USD",
         "Option": "CALL",
         "_deepnote_index_column": 12
        },
        {
         "contractSymbol": "NFLX210827C00510000",
         "lastTradeDate": "2021-07-26T16:00:49.000000",
         "strike": 510,
         "lastPrice": 20.7,
         "bid": 19.3,
         "ask": 20.3,
         "change": 3.08,
         "percentChange": 17.480135,
         "volume": 8,
         "openInterest": 69,
         "impliedVolatility": 0.25785043914794925,
         "inTheMoney": "True",
         "contractSize": "REGULAR",
         "currency": "USD",
         "Option": "CALL",
         "_deepnote_index_column": 13
        },
        {
         "contractSymbol": "NFLX210827C00515000",
         "lastTradeDate": "2021-07-26T15:57:11.000000",
         "strike": 515,
         "lastPrice": 17.45,
         "bid": 16.35,
         "ask": 17.15,
         "change": 1.9500008,
         "percentChange": 12.58065,
         "volume": 38,
         "openInterest": 108,
         "impliedVolatility": 0.2506483627319336,
         "inTheMoney": "True",
         "contractSize": "REGULAR",
         "currency": "USD",
         "Option": "CALL",
         "_deepnote_index_column": 14
        },
        {
         "contractSymbol": "NFLX210827C00520000",
         "lastTradeDate": "2021-07-26T16:19:33.000000",
         "strike": 520,
         "lastPrice": 14.85,
         "bid": 13.95,
         "ask": 14.45,
         "change": 2.2600002,
         "percentChange": 17.950756,
         "volume": 75,
         "openInterest": 50,
         "impliedVolatility": 0.2467421517944336,
         "inTheMoney": "False",
         "contractSize": "REGULAR",
         "currency": "USD",
         "Option": "CALL",
         "_deepnote_index_column": 15
        },
        {
         "contractSymbol": "NFLX210827C00525000",
         "lastTradeDate": "2021-07-26T16:20:22.000000",
         "strike": 525,
         "lastPrice": 12.41,
         "bid": 11.8,
         "ask": 12.45,
         "change": 1.8099995,
         "percentChange": 17.075466,
         "volume": 22,
         "openInterest": 1008,
         "impliedVolatility": 0.25003801727294916,
         "inTheMoney": "False",
         "contractSize": "REGULAR",
         "currency": "USD",
         "Option": "CALL",
         "_deepnote_index_column": 16
        },
        {
         "contractSymbol": "NFLX210827C00530000",
         "lastTradeDate": "2021-07-26T16:29:03.000000",
         "strike": 530,
         "lastPrice": 10.5,
         "bid": 9.7,
         "ask": 10.25,
         "change": 1.6000004,
         "percentChange": 17.977531,
         "volume": 139,
         "openInterest": 145,
         "impliedVolatility": 0.24597921997070313,
         "inTheMoney": "False",
         "contractSize": "REGULAR",
         "currency": "USD",
         "Option": "CALL",
         "_deepnote_index_column": 17
        },
        {
         "contractSymbol": "NFLX210827C00535000",
         "lastTradeDate": "2021-07-26T16:25:20.000000",
         "strike": 535,
         "lastPrice": 8.55,
         "bid": 8.05,
         "ask": 8.6,
         "change": 1.0300002,
         "percentChange": 13.696812,
         "volume": 24,
         "openInterest": 82,
         "impliedVolatility": 0.2470473245239258,
         "inTheMoney": "False",
         "contractSize": "REGULAR",
         "currency": "USD",
         "Option": "CALL",
         "_deepnote_index_column": 18
        },
        {
         "contractSymbol": "NFLX210827C00540000",
         "lastTradeDate": "2021-07-26T16:33:51.000000",
         "strike": 540,
         "lastPrice": 6.96,
         "bid": 6.65,
         "ask": 6.95,
         "change": 1.1700001,
         "percentChange": 20.207254,
         "volume": 28,
         "openInterest": 158,
         "impliedVolatility": 0.24408714904785156,
         "inTheMoney": "False",
         "contractSize": "REGULAR",
         "currency": "USD",
         "Option": "CALL",
         "_deepnote_index_column": 19
        },
        {
         "contractSymbol": "NFLX210827C00545000",
         "lastTradeDate": "2021-07-26T16:21:25.000000",
         "strike": 545,
         "lastPrice": 5.65,
         "bid": 5.45,
         "ask": 5.85,
         "change": 0.8000002,
         "percentChange": 16.494848,
         "volume": 16,
         "openInterest": 102,
         "impliedVolatility": 0.2474745663452148,
         "inTheMoney": "False",
         "contractSize": "REGULAR",
         "currency": "USD",
         "Option": "CALL",
         "_deepnote_index_column": 20
        },
        {
         "contractSymbol": "NFLX210827C00550000",
         "lastTradeDate": "2021-07-26T16:05:59.000000",
         "strike": 550,
         "lastPrice": 5.02,
         "bid": 4.45,
         "ask": 4.75,
         "change": 1.03,
         "percentChange": 25.814537,
         "volume": 28,
         "openInterest": 163,
         "impliedVolatility": 0.24732197998046873,
         "inTheMoney": "False",
         "contractSize": "REGULAR",
         "currency": "USD",
         "Option": "CALL",
         "_deepnote_index_column": 21
        },
        {
         "contractSymbol": "NFLX210827C00555000",
         "lastTradeDate": "2021-07-26T16:33:51.000000",
         "strike": 555,
         "lastPrice": 3.79,
         "bid": 3.6,
         "ask": 3.9,
         "change": 0.5899999,
         "percentChange": 18.437498,
         "volume": 410,
         "openInterest": 123,
         "impliedVolatility": 0.24896991271972657,
         "inTheMoney": "False",
         "contractSize": "REGULAR",
         "currency": "USD",
         "Option": "CALL",
         "_deepnote_index_column": 22
        },
        {
         "contractSymbol": "NFLX210827C00560000",
         "lastTradeDate": "2021-07-26T16:29:29.000000",
         "strike": 560,
         "lastPrice": 3.05,
         "bid": 2.96,
         "ask": 3.15,
         "change": 0.3699999,
         "percentChange": 13.805965,
         "volume": 13,
         "openInterest": 65,
         "impliedVolatility": 0.24964129272460936,
         "inTheMoney": "False",
         "contractSize": "REGULAR",
         "currency": "USD",
         "Option": "CALL",
         "_deepnote_index_column": 23
        },
        {
         "contractSymbol": "NFLX210827C00565000",
         "lastTradeDate": "2021-07-26T15:26:07.000000",
         "strike": 565,
         "lastPrice": 2.61,
         "bid": 2.48,
         "ask": 2.66,
         "change": 0.21999979,
         "percentChange": 9.205011,
         "volume": 2,
         "openInterest": 54,
         "impliedVolatility": 0.25427991821289064,
         "inTheMoney": "False",
         "contractSize": "REGULAR",
         "currency": "USD",
         "Option": "CALL",
         "_deepnote_index_column": 24
        },
        {
         "contractSymbol": "NFLX210827C00570000",
         "lastTradeDate": "2021-07-26T16:34:25.000000",
         "strike": 570,
         "lastPrice": 2.1,
         "bid": 2.01,
         "ask": 2.15,
         "change": 0.119999886,
         "percentChange": 6.0606003,
         "volume": 17,
         "openInterest": 129,
         "impliedVolatility": 0.2555616436767578,
         "inTheMoney": "False",
         "contractSize": "REGULAR",
         "currency": "USD",
         "Option": "CALL",
         "_deepnote_index_column": 25
        },
        {
         "contractSymbol": "NFLX210827C00575000",
         "lastTradeDate": "2021-07-26T15:06:53.000000",
         "strike": 575,
         "lastPrice": 1.84,
         "bid": 1.66,
         "ask": 1.84,
         "change": 0.19000006,
         "percentChange": 11.515155,
         "volume": 1,
         "openInterest": 67,
         "impliedVolatility": 0.26093268371582035,
         "inTheMoney": "False",
         "contractSize": "REGULAR",
         "currency": "USD",
         "Option": "CALL",
         "_deepnote_index_column": 26
        },
        {
         "contractSymbol": "NFLX210827C00580000",
         "lastTradeDate": "2021-07-23T16:10:15.000000",
         "strike": 580,
         "lastPrice": 1.42,
         "bid": 1.45,
         "ask": 1.57,
         "change": 0.110000014,
         "percentChange": 8.396949,
         "volume": 1,
         "openInterest": 125,
         "impliedVolatility": 0.26593751647949215,
         "inTheMoney": "False",
         "contractSize": "REGULAR",
         "currency": "USD",
         "Option": "CALL",
         "_deepnote_index_column": 27
        },
        {
         "contractSymbol": "NFLX210827C00590000",
         "lastTradeDate": "2021-07-26T15:51:16.000000",
         "strike": 590,
         "lastPrice": 1.14,
         "bid": 1.04,
         "ask": 1.13,
         "change": 0.09000003,
         "percentChange": 8.571433,
         "volume": 11,
         "openInterest": 66,
         "impliedVolatility": 0.2745433874511719,
         "inTheMoney": "False",
         "contractSize": "REGULAR",
         "currency": "USD",
         "Option": "CALL",
         "_deepnote_index_column": 28
        },
        {
         "contractSymbol": "NFLX210827C00600000",
         "lastTradeDate": "2021-07-26T14:28:06.000000",
         "strike": 600,
         "lastPrice": 0.92,
         "bid": 0.81,
         "ask": 1.02,
         "change": 0.08000004,
         "percentChange": 9.523814,
         "volume": 6,
         "openInterest": 100,
         "impliedVolatility": 0.2955392712402344,
         "inTheMoney": "False",
         "contractSize": "REGULAR",
         "currency": "USD",
         "Option": "CALL",
         "_deepnote_index_column": 29
        },
        {
         "contractSymbol": "NFLX210827C00610000",
         "lastTradeDate": "2021-07-23T18:12:33.000000",
         "strike": 610,
         "lastPrice": 0.7,
         "bid": 0.6,
         "ask": 0.89,
         "change": 0,
         "percentChange": 0,
         "volume": 10,
         "openInterest": 51,
         "impliedVolatility": 0.3129951513671875,
         "inTheMoney": "False",
         "contractSize": "REGULAR",
         "currency": "USD",
         "Option": "CALL",
         "_deepnote_index_column": 30
        },
        {
         "contractSymbol": "NFLX210827C00620000",
         "lastTradeDate": "2021-07-23T15:06:57.000000",
         "strike": 620,
         "lastPrice": 0.53,
         "bid": 0.49,
         "ask": 0.76,
         "change": 0,
         "percentChange": 0,
         "volume": 1,
         "openInterest": 116,
         "impliedVolatility": 0.32813171874999997,
         "inTheMoney": "False",
         "contractSize": "REGULAR",
         "currency": "USD",
         "Option": "CALL",
         "_deepnote_index_column": 31
        },
        {
         "contractSymbol": "NFLX210827C00630000",
         "lastTradeDate": "2021-07-26T13:48:52.000000",
         "strike": 630,
         "lastPrice": 0.45,
         "bid": 0.41,
         "ask": 0.67,
         "change": 0.049999982,
         "percentChange": 12.499995,
         "volume": 1,
         "openInterest": 131,
         "impliedVolatility": 0.34400070068359373,
         "inTheMoney": "False",
         "contractSize": "REGULAR",
         "currency": "USD",
         "Option": "CALL",
         "_deepnote_index_column": 32
        }
       ],
       "rows_bottom": [
        {
         "contractSymbol": "NFLX210827P00420000",
         "lastTradeDate": "2021-07-23T18:32:13.000000",
         "strike": 420,
         "lastPrice": 0.55,
         "bid": 0.35,
         "ask": 0.61,
         "change": 0,
         "percentChange": 0,
         "volume": 5,
         "openInterest": 20,
         "impliedVolatility": 0.37183245361328127,
         "inTheMoney": "False",
         "contractSize": "REGULAR",
         "currency": "USD",
         "Option": "PUT",
         "_deepnote_index_column": 15
        },
        {
         "contractSymbol": "NFLX210827P00425000",
         "lastTradeDate": "2021-07-23T19:51:40.000000",
         "strike": 425,
         "lastPrice": 0.62,
         "bid": 0.42,
         "ask": 0.69,
         "change": 0,
         "percentChange": 0,
         "volume": 2,
         "openInterest": 4,
         "impliedVolatility": 0.3618227880859375,
         "inTheMoney": "False",
         "contractSize": "REGULAR",
         "currency": "USD",
         "Option": "PUT",
         "_deepnote_index_column": 16
        },
        {
         "contractSymbol": "NFLX210827P00430000",
         "lastTradeDate": "2021-07-26T15:37:22.000000",
         "strike": 430,
         "lastPrice": 0.65,
         "bid": 0.58,
         "ask": 0.75,
         "change": -0.110000014,
         "percentChange": -14.473685,
         "volume": 3,
         "openInterest": 39,
         "impliedVolatility": 0.3491276025390625,
         "inTheMoney": "False",
         "contractSize": "REGULAR",
         "currency": "USD",
         "Option": "PUT",
         "_deepnote_index_column": 17
        },
        {
         "contractSymbol": "NFLX210827P00435000",
         "lastTradeDate": "2021-07-26T15:23:35.000000",
         "strike": 435,
         "lastPrice": 0.78,
         "bid": 0.58,
         "ask": 0.84,
         "change": -0.35000002,
         "percentChange": -30.973452,
         "volume": 7,
         "openInterest": 332,
         "impliedVolatility": 0.33814138427734375,
         "inTheMoney": "False",
         "contractSize": "REGULAR",
         "currency": "USD",
         "Option": "PUT",
         "_deepnote_index_column": 18
        },
        {
         "contractSymbol": "NFLX210827P00440000",
         "lastTradeDate": "2021-07-22T16:37:36.000000",
         "strike": 440,
         "lastPrice": 1.33,
         "bid": 0.69,
         "ask": 0.96,
         "change": 0,
         "percentChange": 0,
         "volume": 2,
         "openInterest": 50,
         "impliedVolatility": 0.3284979260253906,
         "inTheMoney": "False",
         "contractSize": "REGULAR",
         "currency": "USD",
         "Option": "PUT",
         "_deepnote_index_column": 19
        },
        {
         "contractSymbol": "NFLX210827P00445000",
         "lastTradeDate": "2021-07-23T18:00:18.000000",
         "strike": 445,
         "lastPrice": 1.05,
         "bid": 0.8,
         "ask": 1.09,
         "change": 0,
         "percentChange": 0,
         "volume": 33,
         "openInterest": 62,
         "impliedVolatility": 0.3181220532226562,
         "inTheMoney": "False",
         "contractSize": "REGULAR",
         "currency": "USD",
         "Option": "PUT",
         "_deepnote_index_column": 20
        },
        {
         "contractSymbol": "NFLX210827P00450000",
         "lastTradeDate": "2021-07-26T16:05:27.000000",
         "strike": 450,
         "lastPrice": 1.08,
         "bid": 1.05,
         "ask": 1.2,
         "change": -0.26,
         "percentChange": -19.402985,
         "volume": 1,
         "openInterest": 62,
         "impliedVolatility": 0.3055489367675781,
         "inTheMoney": "False",
         "contractSize": "REGULAR",
         "currency": "USD",
         "Option": "PUT",
         "_deepnote_index_column": 21
        },
        {
         "contractSymbol": "NFLX210827P00455000",
         "lastTradeDate": "2021-07-23T16:35:56.000000",
         "strike": 455,
         "lastPrice": 1.48,
         "bid": 1.24,
         "ask": 1.44,
         "change": -0.06999993,
         "percentChange": -4.5161247,
         "volume": 29,
         "openInterest": 255,
         "impliedVolatility": 0.29871306762695304,
         "inTheMoney": "False",
         "contractSize": "REGULAR",
         "currency": "USD",
         "Option": "PUT",
         "_deepnote_index_column": 22
        },
        {
         "contractSymbol": "NFLX210827P00460000",
         "lastTradeDate": "2021-07-26T16:01:00.000000",
         "strike": 460,
         "lastPrice": 1.5,
         "bid": 1.47,
         "ask": 1.61,
         "change": -0.19000006,
         "percentChange": -11.242606,
         "volume": 56,
         "openInterest": 176,
         "impliedVolatility": 0.2867502966308593,
         "inTheMoney": "False",
         "contractSize": "REGULAR",
         "currency": "USD",
         "Option": "PUT",
         "_deepnote_index_column": 23
        },
        {
         "contractSymbol": "NFLX210827P00465000",
         "lastTradeDate": "2021-07-26T16:34:14.000000",
         "strike": 465,
         "lastPrice": 1.84,
         "bid": 1.77,
         "ask": 1.92,
         "change": -0.15999997,
         "percentChange": -7.999998,
         "volume": 56,
         "openInterest": 372,
         "impliedVolatility": 0.27924304748535156,
         "inTheMoney": "False",
         "contractSize": "REGULAR",
         "currency": "USD",
         "Option": "PUT",
         "_deepnote_index_column": 24
        },
        {
         "contractSymbol": "NFLX210827P00470000",
         "lastTradeDate": "2021-07-26T16:34:14.000000",
         "strike": 470,
         "lastPrice": 2.2,
         "bid": 2.17,
         "ask": 2.3,
         "change": -0.26,
         "percentChange": -10.569105,
         "volume": 160,
         "openInterest": 671,
         "impliedVolatility": 0.2720409710693359,
         "inTheMoney": "False",
         "contractSize": "REGULAR",
         "currency": "USD",
         "Option": "PUT",
         "_deepnote_index_column": 25
        },
        {
         "contractSymbol": "NFLX210827P00475000",
         "lastTradeDate": "2021-07-26T16:10:35.000000",
         "strike": 475,
         "lastPrice": 2.6,
         "bid": 2.7,
         "ask": 2.79,
         "change": -0.37000012,
         "percentChange": -12.457916,
         "volume": 106,
         "openInterest": 314,
         "impliedVolatility": 0.26593751647949215,
         "inTheMoney": "False",
         "contractSize": "REGULAR",
         "currency": "USD",
         "Option": "PUT",
         "_deepnote_index_column": 26
        },
        {
         "contractSymbol": "NFLX210827P00480000",
         "lastTradeDate": "2021-07-26T16:10:35.000000",
         "strike": 480,
         "lastPrice": 3.05,
         "bid": 3.15,
         "ask": 3.35,
         "change": -0.6600001,
         "percentChange": -17.789759,
         "volume": 37,
         "openInterest": 553,
         "impliedVolatility": 0.2591016473388672,
         "inTheMoney": "False",
         "contractSize": "REGULAR",
         "currency": "USD",
         "Option": "PUT",
         "_deepnote_index_column": 27
        },
        {
         "contractSymbol": "NFLX210827P00485000",
         "lastTradeDate": "2021-07-26T15:51:47.000000",
         "strike": 485,
         "lastPrice": 3.99,
         "bid": 3.9,
         "ask": 4.15,
         "change": -0.47000003,
         "percentChange": -10.538117,
         "volume": 21,
         "openInterest": 212,
         "impliedVolatility": 0.2553785400390626,
         "inTheMoney": "False",
         "contractSize": "REGULAR",
         "currency": "USD",
         "Option": "PUT",
         "_deepnote_index_column": 28
        },
        {
         "contractSymbol": "NFLX210827P00490000",
         "lastTradeDate": "2021-07-26T16:12:46.000000",
         "strike": 490,
         "lastPrice": 4.8,
         "bid": 4.9,
         "ask": 5.15,
         "change": -0.5,
         "percentChange": -9.433962,
         "volume": 86,
         "openInterest": 237,
         "impliedVolatility": 0.25269302001953126,
         "inTheMoney": "False",
         "contractSize": "REGULAR",
         "currency": "USD",
         "Option": "PUT",
         "_deepnote_index_column": 29
        },
        {
         "contractSymbol": "NFLX210827P00495000",
         "lastTradeDate": "2021-07-23T19:39:41.000000",
         "strike": 495,
         "lastPrice": 6,
         "bid": 5.95,
         "ask": 6.25,
         "change": -0.6500001,
         "percentChange": -9.774437,
         "volume": 16,
         "openInterest": 149,
         "impliedVolatility": 0.24829853271484376,
         "inTheMoney": "False",
         "contractSize": "REGULAR",
         "currency": "USD",
         "Option": "PUT",
         "_deepnote_index_column": 30
        },
        {
         "contractSymbol": "NFLX210827P00500000",
         "lastTradeDate": "2021-07-26T14:46:36.000000",
         "strike": 500,
         "lastPrice": 7.35,
         "bid": 7.35,
         "ask": 7.65,
         "change": -0.6799998,
         "percentChange": -8.468243,
         "volume": 67,
         "openInterest": 274,
         "impliedVolatility": 0.24588766815185548,
         "inTheMoney": "False",
         "contractSize": "REGULAR",
         "currency": "USD",
         "Option": "PUT",
         "_deepnote_index_column": 31
        },
        {
         "contractSymbol": "NFLX210827P00505000",
         "lastTradeDate": "2021-07-23T18:44:08.000000",
         "strike": 505,
         "lastPrice": 9.04,
         "bid": 8.9,
         "ask": 9.3,
         "change": -0.5100002,
         "percentChange": -5.3403163,
         "volume": 7,
         "openInterest": 198,
         "impliedVolatility": 0.24390404541015626,
         "inTheMoney": "False",
         "contractSize": "REGULAR",
         "currency": "USD",
         "Option": "PUT",
         "_deepnote_index_column": 32
        },
        {
         "contractSymbol": "NFLX210827P00510000",
         "lastTradeDate": "2021-07-26T14:32:34.000000",
         "strike": 510,
         "lastPrice": 10.89,
         "bid": 10.75,
         "ask": 11.25,
         "change": -1.1099997,
         "percentChange": -9.249997,
         "volume": 24,
         "openInterest": 219,
         "impliedVolatility": 0.24283594085693355,
         "inTheMoney": "False",
         "contractSize": "REGULAR",
         "currency": "USD",
         "Option": "PUT",
         "_deepnote_index_column": 33
        },
        {
         "contractSymbol": "NFLX210827P00515000",
         "lastTradeDate": "2021-07-26T14:25:08.000000",
         "strike": 515,
         "lastPrice": 13.3,
         "bid": 12.85,
         "ask": 13.45,
         "change": -0.75,
         "percentChange": -5.338078,
         "volume": 23,
         "openInterest": 74,
         "impliedVolatility": 0.24164576721191405,
         "inTheMoney": "False",
         "contractSize": "REGULAR",
         "currency": "USD",
         "Option": "PUT",
         "_deepnote_index_column": 34
        },
        {
         "contractSymbol": "NFLX210827P00520000",
         "lastTradeDate": "2021-07-26T15:57:42.000000",
         "strike": 520,
         "lastPrice": 14.96,
         "bid": 15.3,
         "ask": 16.25,
         "change": -1.499999,
         "percentChange": -9.112996,
         "volume": 14,
         "openInterest": 69,
         "impliedVolatility": 0.24585715087890625,
         "inTheMoney": "True",
         "contractSize": "REGULAR",
         "currency": "USD",
         "Option": "PUT",
         "_deepnote_index_column": 35
        },
        {
         "contractSymbol": "NFLX210827P00525000",
         "lastTradeDate": "2021-07-23T19:02:41.000000",
         "strike": 525,
         "lastPrice": 18.47,
         "bid": 18.15,
         "ask": 18.65,
         "change": -1.1300011,
         "percentChange": -5.7653112,
         "volume": 1,
         "openInterest": 129,
         "impliedVolatility": 0.23938748901367185,
         "inTheMoney": "True",
         "contractSize": "REGULAR",
         "currency": "USD",
         "Option": "PUT",
         "_deepnote_index_column": 36
        },
        {
         "contractSymbol": "NFLX210827P00530000",
         "lastTradeDate": "2021-07-26T15:03:58.000000",
         "strike": 530,
         "lastPrice": 21.51,
         "bid": 20.8,
         "ask": 22.05,
         "change": -0.84000015,
         "percentChange": -3.75839,
         "volume": 2,
         "openInterest": 72,
         "impliedVolatility": 0.24506370178222658,
         "inTheMoney": "True",
         "contractSize": "REGULAR",
         "currency": "USD",
         "Option": "PUT",
         "_deepnote_index_column": 37
        },
        {
         "contractSymbol": "NFLX210827P00535000",
         "lastTradeDate": "2021-07-23T18:16:01.000000",
         "strike": 535,
         "lastPrice": 26.32,
         "bid": 23.8,
         "ask": 25.3,
         "change": 0,
         "percentChange": 0,
         "volume": 85,
         "openInterest": 106,
         "impliedVolatility": 0.24436180450439454,
         "inTheMoney": "True",
         "contractSize": "REGULAR",
         "currency": "USD",
         "Option": "PUT",
         "_deepnote_index_column": 38
        },
        {
         "contractSymbol": "NFLX210827P00540000",
         "lastTradeDate": "2021-07-22T19:56:51.000000",
         "strike": 540,
         "lastPrice": 34.33,
         "bid": 27.2,
         "ask": 28.9,
         "change": 0,
         "percentChange": 0,
         "volume": 10,
         "openInterest": 59,
         "impliedVolatility": 0.24585715087890625,
         "inTheMoney": "True",
         "contractSize": "REGULAR",
         "currency": "USD",
         "Option": "PUT",
         "_deepnote_index_column": 39
        },
        {
         "contractSymbol": "NFLX210827P00545000",
         "lastTradeDate": "2021-07-23T13:32:10.000000",
         "strike": 545,
         "lastPrice": 38.81,
         "bid": 30.75,
         "ask": 32.6,
         "change": 0,
         "percentChange": 0,
         "volume": 1,
         "openInterest": 18,
         "impliedVolatility": 0.24536887451171874,
         "inTheMoney": "True",
         "contractSize": "REGULAR",
         "currency": "USD",
         "Option": "PUT",
         "_deepnote_index_column": 40
        },
        {
         "contractSymbol": "NFLX210827P00550000",
         "lastTradeDate": "2021-07-23T17:47:24.000000",
         "strike": 550,
         "lastPrice": 38.74,
         "bid": 34.95,
         "ask": 36.75,
         "change": 0,
         "percentChange": 0,
         "volume": 26,
         "openInterest": 13,
         "impliedVolatility": 0.250434741821289,
         "inTheMoney": "True",
         "contractSize": "REGULAR",
         "currency": "USD",
         "Option": "PUT",
         "_deepnote_index_column": 41
        },
        {
         "contractSymbol": "NFLX210827P00560000",
         "lastTradeDate": "2021-07-21T13:56:58.000000",
         "strike": 560,
         "lastPrice": 48.5,
         "bid": 43.3,
         "ask": 45.5,
         "change": 0,
         "percentChange": 0,
         "volume": "nan",
         "openInterest": 2,
         "impliedVolatility": 0.2623975128173829,
         "inTheMoney": "True",
         "contractSize": "REGULAR",
         "currency": "USD",
         "Option": "PUT",
         "_deepnote_index_column": 42
        },
        {
         "contractSymbol": "NFLX210827P00565000",
         "lastTradeDate": "2021-07-19T04:02:23.000000",
         "strike": 565,
         "lastPrice": 37.85,
         "bid": 47.7,
         "ask": 49.95,
         "change": 0,
         "percentChange": 0,
         "volume": "nan",
         "openInterest": 1,
         "impliedVolatility": 0.266608896484375,
         "inTheMoney": "True",
         "contractSize": "REGULAR",
         "currency": "USD",
         "Option": "PUT",
         "_deepnote_index_column": 43
        },
        {
         "contractSymbol": "NFLX210827P00570000",
         "lastTradeDate": "2021-07-23T16:11:50.000000",
         "strike": 570,
         "lastPrice": 58.09,
         "bid": 52.75,
         "ask": 54.45,
         "change": 0,
         "percentChange": 0,
         "volume": 2,
         "openInterest": 13,
         "impliedVolatility": 0.26972165832519535,
         "inTheMoney": "True",
         "contractSize": "REGULAR",
         "currency": "USD",
         "Option": "PUT",
         "_deepnote_index_column": 44
        },
        {
         "contractSymbol": "NFLX210827P00575000",
         "lastTradeDate": "2021-07-21T17:05:49.000000",
         "strike": 575,
         "lastPrice": 68,
         "bid": 56.9,
         "ask": 59.65,
         "change": 0,
         "percentChange": 0,
         "volume": "nan",
         "openInterest": 1,
         "impliedVolatility": 0.29291478576660146,
         "inTheMoney": "True",
         "contractSize": "REGULAR",
         "currency": "USD",
         "Option": "PUT",
         "_deepnote_index_column": 45
        },
        {
         "contractSymbol": "NFLX210827P00580000",
         "lastTradeDate": "2021-07-23T14:25:25.000000",
         "strike": 580,
         "lastPrice": 73.45,
         "bid": 61.7,
         "ask": 64.4,
         "change": 0,
         "percentChange": 0,
         "volume": 2,
         "openInterest": 12,
         "impliedVolatility": 0.30152065673828127,
         "inTheMoney": "True",
         "contractSize": "REGULAR",
         "currency": "USD",
         "Option": "PUT",
         "_deepnote_index_column": 46
        },
        {
         "contractSymbol": "NFLX210827P00590000",
         "lastTradeDate": "2021-07-22T15:35:25.000000",
         "strike": 590,
         "lastPrice": 82.41,
         "bid": 70.95,
         "ask": 73.8,
         "change": 0,
         "percentChange": 0,
         "volume": 2,
         "openInterest": 2,
         "impliedVolatility": 0.31116411499023433,
         "inTheMoney": "True",
         "contractSize": "REGULAR",
         "currency": "USD",
         "Option": "PUT",
         "_deepnote_index_column": 47
        }
       ]
      },
      "text/plain": "         contractSymbol       lastTradeDate  strike  lastPrice     bid  \\\n0   NFLX210827C00400000 2021-07-21 14:29:31   400.0     109.80  117.85   \n1   NFLX210827C00450000 2021-07-22 13:55:06   450.0      61.27   68.55   \n2   NFLX210827C00455000 2021-07-21 16:03:27   455.0      57.34   63.65   \n3   NFLX210827C00460000 2021-07-20 16:57:08   460.0      76.92   59.45   \n4   NFLX210827C00465000 2021-07-21 16:03:27   465.0      48.43   54.45   \n..                  ...                 ...     ...        ...     ...   \n43  NFLX210827P00565000 2021-07-19 04:02:23   565.0      37.85   47.70   \n44  NFLX210827P00570000 2021-07-23 16:11:50   570.0      58.09   52.75   \n45  NFLX210827P00575000 2021-07-21 17:05:49   575.0      68.00   56.90   \n46  NFLX210827P00580000 2021-07-23 14:25:25   580.0      73.45   61.70   \n47  NFLX210827P00590000 2021-07-22 15:35:25   590.0      82.41   70.95   \n\n       ask  change  percentChange  volume  openInterest  impliedVolatility  \\\n0   120.10     0.0            0.0     NaN             2           0.553837   \n1    71.10     0.0            0.0     NaN             1           0.382697   \n2    66.40     0.0            0.0     NaN            42           0.370856   \n3    61.50     0.0            0.0     5.0             7           0.351447   \n4    57.25     0.0            0.0    42.0            47           0.350959   \n..     ...     ...            ...     ...           ...                ...   \n43   49.95     0.0            0.0     NaN             1           0.266609   \n44   54.45     0.0            0.0     2.0            13           0.269722   \n45   59.65     0.0            0.0     NaN             1           0.292915   \n46   64.40     0.0            0.0     2.0            12           0.301521   \n47   73.80     0.0            0.0     2.0             2           0.311164   \n\n    inTheMoney contractSize currency Option  \n0         True      REGULAR      USD   CALL  \n1         True      REGULAR      USD   CALL  \n2         True      REGULAR      USD   CALL  \n3         True      REGULAR      USD   CALL  \n4         True      REGULAR      USD   CALL  \n..         ...          ...      ...    ...  \n43        True      REGULAR      USD    PUT  \n44        True      REGULAR      USD    PUT  \n45        True      REGULAR      USD    PUT  \n46        True      REGULAR      USD    PUT  \n47        True      REGULAR      USD    PUT  \n\n[95 rows x 15 columns]",
      "text/html": "<div>\n<style scoped>\n    .dataframe tbody tr th:only-of-type {\n        vertical-align: middle;\n    }\n\n    .dataframe tbody tr th {\n        vertical-align: top;\n    }\n\n    .dataframe thead th {\n        text-align: right;\n    }\n</style>\n<table border=\"1\" class=\"dataframe\">\n  <thead>\n    <tr style=\"text-align: right;\">\n      <th></th>\n      <th>contractSymbol</th>\n      <th>lastTradeDate</th>\n      <th>strike</th>\n      <th>lastPrice</th>\n      <th>bid</th>\n      <th>ask</th>\n      <th>change</th>\n      <th>percentChange</th>\n      <th>volume</th>\n      <th>openInterest</th>\n      <th>impliedVolatility</th>\n      <th>inTheMoney</th>\n      <th>contractSize</th>\n      <th>currency</th>\n      <th>Option</th>\n    </tr>\n  </thead>\n  <tbody>\n    <tr>\n      <th>0</th>\n      <td>NFLX210827C00400000</td>\n      <td>2021-07-21 14:29:31</td>\n      <td>400.0</td>\n      <td>109.80</td>\n      <td>117.85</td>\n      <td>120.10</td>\n      <td>0.0</td>\n      <td>0.0</td>\n      <td>NaN</td>\n      <td>2</td>\n      <td>0.553837</td>\n      <td>True</td>\n      <td>REGULAR</td>\n      <td>USD</td>\n      <td>CALL</td>\n    </tr>\n    <tr>\n      <th>1</th>\n      <td>NFLX210827C00450000</td>\n      <td>2021-07-22 13:55:06</td>\n      <td>450.0</td>\n      <td>61.27</td>\n      <td>68.55</td>\n      <td>71.10</td>\n      <td>0.0</td>\n      <td>0.0</td>\n      <td>NaN</td>\n      <td>1</td>\n      <td>0.382697</td>\n      <td>True</td>\n      <td>REGULAR</td>\n      <td>USD</td>\n      <td>CALL</td>\n    </tr>\n    <tr>\n      <th>2</th>\n      <td>NFLX210827C00455000</td>\n      <td>2021-07-21 16:03:27</td>\n      <td>455.0</td>\n      <td>57.34</td>\n      <td>63.65</td>\n      <td>66.40</td>\n      <td>0.0</td>\n      <td>0.0</td>\n      <td>NaN</td>\n      <td>42</td>\n      <td>0.370856</td>\n      <td>True</td>\n      <td>REGULAR</td>\n      <td>USD</td>\n      <td>CALL</td>\n    </tr>\n    <tr>\n      <th>3</th>\n      <td>NFLX210827C00460000</td>\n      <td>2021-07-20 16:57:08</td>\n      <td>460.0</td>\n      <td>76.92</td>\n      <td>59.45</td>\n      <td>61.50</td>\n      <td>0.0</td>\n      <td>0.0</td>\n      <td>5.0</td>\n      <td>7</td>\n      <td>0.351447</td>\n      <td>True</td>\n      <td>REGULAR</td>\n      <td>USD</td>\n      <td>CALL</td>\n    </tr>\n    <tr>\n      <th>4</th>\n      <td>NFLX210827C00465000</td>\n      <td>2021-07-21 16:03:27</td>\n      <td>465.0</td>\n      <td>48.43</td>\n      <td>54.45</td>\n      <td>57.25</td>\n      <td>0.0</td>\n      <td>0.0</td>\n      <td>42.0</td>\n      <td>47</td>\n      <td>0.350959</td>\n      <td>True</td>\n      <td>REGULAR</td>\n      <td>USD</td>\n      <td>CALL</td>\n    </tr>\n    <tr>\n      <th>...</th>\n      <td>...</td>\n      <td>...</td>\n      <td>...</td>\n      <td>...</td>\n      <td>...</td>\n      <td>...</td>\n      <td>...</td>\n      <td>...</td>\n      <td>...</td>\n      <td>...</td>\n      <td>...</td>\n      <td>...</td>\n      <td>...</td>\n      <td>...</td>\n      <td>...</td>\n    </tr>\n    <tr>\n      <th>43</th>\n      <td>NFLX210827P00565000</td>\n      <td>2021-07-19 04:02:23</td>\n      <td>565.0</td>\n      <td>37.85</td>\n      <td>47.70</td>\n      <td>49.95</td>\n      <td>0.0</td>\n      <td>0.0</td>\n      <td>NaN</td>\n      <td>1</td>\n      <td>0.266609</td>\n      <td>True</td>\n      <td>REGULAR</td>\n      <td>USD</td>\n      <td>PUT</td>\n    </tr>\n    <tr>\n      <th>44</th>\n      <td>NFLX210827P00570000</td>\n      <td>2021-07-23 16:11:50</td>\n      <td>570.0</td>\n      <td>58.09</td>\n      <td>52.75</td>\n      <td>54.45</td>\n      <td>0.0</td>\n      <td>0.0</td>\n      <td>2.0</td>\n      <td>13</td>\n      <td>0.269722</td>\n      <td>True</td>\n      <td>REGULAR</td>\n      <td>USD</td>\n      <td>PUT</td>\n    </tr>\n    <tr>\n      <th>45</th>\n      <td>NFLX210827P00575000</td>\n      <td>2021-07-21 17:05:49</td>\n      <td>575.0</td>\n      <td>68.00</td>\n      <td>56.90</td>\n      <td>59.65</td>\n      <td>0.0</td>\n      <td>0.0</td>\n      <td>NaN</td>\n      <td>1</td>\n      <td>0.292915</td>\n      <td>True</td>\n      <td>REGULAR</td>\n      <td>USD</td>\n      <td>PUT</td>\n    </tr>\n    <tr>\n      <th>46</th>\n      <td>NFLX210827P00580000</td>\n      <td>2021-07-23 14:25:25</td>\n      <td>580.0</td>\n      <td>73.45</td>\n      <td>61.70</td>\n      <td>64.40</td>\n      <td>0.0</td>\n      <td>0.0</td>\n      <td>2.0</td>\n      <td>12</td>\n      <td>0.301521</td>\n      <td>True</td>\n      <td>REGULAR</td>\n      <td>USD</td>\n      <td>PUT</td>\n    </tr>\n    <tr>\n      <th>47</th>\n      <td>NFLX210827P00590000</td>\n      <td>2021-07-22 15:35:25</td>\n      <td>590.0</td>\n      <td>82.41</td>\n      <td>70.95</td>\n      <td>73.80</td>\n      <td>0.0</td>\n      <td>0.0</td>\n      <td>2.0</td>\n      <td>2</td>\n      <td>0.311164</td>\n      <td>True</td>\n      <td>REGULAR</td>\n      <td>USD</td>\n      <td>PUT</td>\n    </tr>\n  </tbody>\n</table>\n<p>95 rows × 15 columns</p>\n</div>"
     },
     "metadata": {}
    }
   ],
   "execution_count": 26
  },
  {
   "cell_type": "code",
   "source": "# Options Volume\nfig = px.bar(df_options, x=\"strike\", y=\"volume\", color=\"Option\",title=\"{} Options Volume\".format(symbol), template = \"plotly_dark\")\nfig.show()",
   "metadata": {
    "tags": [],
    "cell_id": "00005-f892a27c-ee6a-4663-8f7f-aa98db497b9f",
    "deepnote_to_be_reexecuted": false,
    "source_hash": "3cbe360c",
    "execution_start": 1627318313559,
    "execution_millis": 58,
    "deepnote_cell_type": "code"
   },
   "outputs": [
    {
     "data": {
      "text/html": "<html>\n<head><meta charset=\"utf-8\" /></head>\n<body>\n    <div>            <script src=\"https://cdnjs.cloudflare.com/ajax/libs/mathjax/2.7.5/MathJax.js?config=TeX-AMS-MML_SVG\"></script><script type=\"text/javascript\">if (window.MathJax) {MathJax.Hub.Config({SVG: {font: \"STIX-Web\"}});}</script>                <script type=\"text/javascript\">window.PlotlyConfig = {MathJaxConfig: 'local'};</script>\n        <script src=\"https://cdn.plot.ly/plotly-2.2.0.min.js\"></script>                <div id=\"191132a2-6126-402d-9035-ce32a6daca83\" class=\"plotly-graph-div\" style=\"height:525px; width:100%;\"></div>            <script type=\"text/javascript\">                                    window.PLOTLYENV=window.PLOTLYENV || {};                                    if (document.getElementById(\"191132a2-6126-402d-9035-ce32a6daca83\")) {                    Plotly.newPlot(                        \"191132a2-6126-402d-9035-ce32a6daca83\",                        [{\"alignmentgroup\":\"True\",\"hovertemplate\":\"Option=CALL<br>strike=%{x}<br>volume=%{y}<extra></extra>\",\"legendgroup\":\"CALL\",\"marker\":{\"color\":\"#636efa\",\"pattern\":{\"shape\":\"\"}},\"name\":\"CALL\",\"offsetgroup\":\"CALL\",\"orientation\":\"v\",\"showlegend\":true,\"textposition\":\"auto\",\"type\":\"bar\",\"x\":[400.0,450.0,455.0,460.0,465.0,470.0,475.0,480.0,485.0,490.0,495.0,500.0,505.0,510.0,515.0,520.0,525.0,530.0,535.0,540.0,545.0,550.0,555.0,560.0,565.0,570.0,575.0,580.0,590.0,600.0,610.0,620.0,630.0,640.0,650.0,660.0,670.0,680.0,690.0,700.0,710.0,720.0,740.0,760.0,770.0,790.0,800.0],\"xaxis\":\"x\",\"y\":[null,null,null,5.0,42.0,2.0,null,1.0,4.0,2.0,3.0,2.0,1.0,8.0,38.0,75.0,22.0,139.0,24.0,28.0,16.0,28.0,410.0,13.0,2.0,17.0,1.0,1.0,11.0,6.0,10.0,1.0,1.0,5.0,1.0,5.0,1.0,46.0,1.0,1.0,null,9.0,null,null,6.0,null,null],\"yaxis\":\"y\"},{\"alignmentgroup\":\"True\",\"hovertemplate\":\"Option=PUT<br>strike=%{x}<br>volume=%{y}<extra></extra>\",\"legendgroup\":\"PUT\",\"marker\":{\"color\":\"#EF553B\",\"pattern\":{\"shape\":\"\"}},\"name\":\"PUT\",\"offsetgroup\":\"PUT\",\"orientation\":\"v\",\"showlegend\":true,\"textposition\":\"auto\",\"type\":\"bar\",\"x\":[300.0,310.0,320.0,330.0,350.0,370.0,375.0,380.0,385.0,390.0,395.0,400.0,405.0,410.0,415.0,420.0,425.0,430.0,435.0,440.0,445.0,450.0,455.0,460.0,465.0,470.0,475.0,480.0,485.0,490.0,495.0,500.0,505.0,510.0,515.0,520.0,525.0,530.0,535.0,540.0,545.0,550.0,560.0,565.0,570.0,575.0,580.0,590.0],\"xaxis\":\"x\",\"y\":[3.0,null,null,1.0,5.0,1.0,1.0,null,1.0,1.0,14.0,2.0,4.0,1.0,1.0,5.0,2.0,3.0,7.0,2.0,33.0,1.0,29.0,56.0,56.0,160.0,106.0,37.0,21.0,86.0,16.0,67.0,7.0,24.0,23.0,14.0,1.0,2.0,85.0,10.0,1.0,26.0,null,null,2.0,null,2.0,2.0],\"yaxis\":\"y\"}],                        {\"barmode\":\"relative\",\"legend\":{\"title\":{\"text\":\"Option\"},\"tracegroupgap\":0},\"template\":{\"data\":{\"bar\":[{\"error_x\":{\"color\":\"#f2f5fa\"},\"error_y\":{\"color\":\"#f2f5fa\"},\"marker\":{\"line\":{\"color\":\"rgb(17,17,17)\",\"width\":0.5},\"pattern\":{\"fillmode\":\"overlay\",\"size\":10,\"solidity\":0.2}},\"type\":\"bar\"}],\"barpolar\":[{\"marker\":{\"line\":{\"color\":\"rgb(17,17,17)\",\"width\":0.5},\"pattern\":{\"fillmode\":\"overlay\",\"size\":10,\"solidity\":0.2}},\"type\":\"barpolar\"}],\"carpet\":[{\"aaxis\":{\"endlinecolor\":\"#A2B1C6\",\"gridcolor\":\"#506784\",\"linecolor\":\"#506784\",\"minorgridcolor\":\"#506784\",\"startlinecolor\":\"#A2B1C6\"},\"baxis\":{\"endlinecolor\":\"#A2B1C6\",\"gridcolor\":\"#506784\",\"linecolor\":\"#506784\",\"minorgridcolor\":\"#506784\",\"startlinecolor\":\"#A2B1C6\"},\"type\":\"carpet\"}],\"choropleth\":[{\"colorbar\":{\"outlinewidth\":0,\"ticks\":\"\"},\"type\":\"choropleth\"}],\"contour\":[{\"colorbar\":{\"outlinewidth\":0,\"ticks\":\"\"},\"colorscale\":[[0.0,\"#0d0887\"],[0.1111111111111111,\"#46039f\"],[0.2222222222222222,\"#7201a8\"],[0.3333333333333333,\"#9c179e\"],[0.4444444444444444,\"#bd3786\"],[0.5555555555555556,\"#d8576b\"],[0.6666666666666666,\"#ed7953\"],[0.7777777777777778,\"#fb9f3a\"],[0.8888888888888888,\"#fdca26\"],[1.0,\"#f0f921\"]],\"type\":\"contour\"}],\"contourcarpet\":[{\"colorbar\":{\"outlinewidth\":0,\"ticks\":\"\"},\"type\":\"contourcarpet\"}],\"heatmap\":[{\"colorbar\":{\"outlinewidth\":0,\"ticks\":\"\"},\"colorscale\":[[0.0,\"#0d0887\"],[0.1111111111111111,\"#46039f\"],[0.2222222222222222,\"#7201a8\"],[0.3333333333333333,\"#9c179e\"],[0.4444444444444444,\"#bd3786\"],[0.5555555555555556,\"#d8576b\"],[0.6666666666666666,\"#ed7953\"],[0.7777777777777778,\"#fb9f3a\"],[0.8888888888888888,\"#fdca26\"],[1.0,\"#f0f921\"]],\"type\":\"heatmap\"}],\"heatmapgl\":[{\"colorbar\":{\"outlinewidth\":0,\"ticks\":\"\"},\"colorscale\":[[0.0,\"#0d0887\"],[0.1111111111111111,\"#46039f\"],[0.2222222222222222,\"#7201a8\"],[0.3333333333333333,\"#9c179e\"],[0.4444444444444444,\"#bd3786\"],[0.5555555555555556,\"#d8576b\"],[0.6666666666666666,\"#ed7953\"],[0.7777777777777778,\"#fb9f3a\"],[0.8888888888888888,\"#fdca26\"],[1.0,\"#f0f921\"]],\"type\":\"heatmapgl\"}],\"histogram\":[{\"marker\":{\"pattern\":{\"fillmode\":\"overlay\",\"size\":10,\"solidity\":0.2}},\"type\":\"histogram\"}],\"histogram2d\":[{\"colorbar\":{\"outlinewidth\":0,\"ticks\":\"\"},\"colorscale\":[[0.0,\"#0d0887\"],[0.1111111111111111,\"#46039f\"],[0.2222222222222222,\"#7201a8\"],[0.3333333333333333,\"#9c179e\"],[0.4444444444444444,\"#bd3786\"],[0.5555555555555556,\"#d8576b\"],[0.6666666666666666,\"#ed7953\"],[0.7777777777777778,\"#fb9f3a\"],[0.8888888888888888,\"#fdca26\"],[1.0,\"#f0f921\"]],\"type\":\"histogram2d\"}],\"histogram2dcontour\":[{\"colorbar\":{\"outlinewidth\":0,\"ticks\":\"\"},\"colorscale\":[[0.0,\"#0d0887\"],[0.1111111111111111,\"#46039f\"],[0.2222222222222222,\"#7201a8\"],[0.3333333333333333,\"#9c179e\"],[0.4444444444444444,\"#bd3786\"],[0.5555555555555556,\"#d8576b\"],[0.6666666666666666,\"#ed7953\"],[0.7777777777777778,\"#fb9f3a\"],[0.8888888888888888,\"#fdca26\"],[1.0,\"#f0f921\"]],\"type\":\"histogram2dcontour\"}],\"mesh3d\":[{\"colorbar\":{\"outlinewidth\":0,\"ticks\":\"\"},\"type\":\"mesh3d\"}],\"parcoords\":[{\"line\":{\"colorbar\":{\"outlinewidth\":0,\"ticks\":\"\"}},\"type\":\"parcoords\"}],\"pie\":[{\"automargin\":true,\"type\":\"pie\"}],\"scatter\":[{\"marker\":{\"line\":{\"color\":\"#283442\"}},\"type\":\"scatter\"}],\"scatter3d\":[{\"line\":{\"colorbar\":{\"outlinewidth\":0,\"ticks\":\"\"}},\"marker\":{\"colorbar\":{\"outlinewidth\":0,\"ticks\":\"\"}},\"type\":\"scatter3d\"}],\"scattercarpet\":[{\"marker\":{\"colorbar\":{\"outlinewidth\":0,\"ticks\":\"\"}},\"type\":\"scattercarpet\"}],\"scattergeo\":[{\"marker\":{\"colorbar\":{\"outlinewidth\":0,\"ticks\":\"\"}},\"type\":\"scattergeo\"}],\"scattergl\":[{\"marker\":{\"line\":{\"color\":\"#283442\"}},\"type\":\"scattergl\"}],\"scattermapbox\":[{\"marker\":{\"colorbar\":{\"outlinewidth\":0,\"ticks\":\"\"}},\"type\":\"scattermapbox\"}],\"scatterpolar\":[{\"marker\":{\"colorbar\":{\"outlinewidth\":0,\"ticks\":\"\"}},\"type\":\"scatterpolar\"}],\"scatterpolargl\":[{\"marker\":{\"colorbar\":{\"outlinewidth\":0,\"ticks\":\"\"}},\"type\":\"scatterpolargl\"}],\"scatterternary\":[{\"marker\":{\"colorbar\":{\"outlinewidth\":0,\"ticks\":\"\"}},\"type\":\"scatterternary\"}],\"surface\":[{\"colorbar\":{\"outlinewidth\":0,\"ticks\":\"\"},\"colorscale\":[[0.0,\"#0d0887\"],[0.1111111111111111,\"#46039f\"],[0.2222222222222222,\"#7201a8\"],[0.3333333333333333,\"#9c179e\"],[0.4444444444444444,\"#bd3786\"],[0.5555555555555556,\"#d8576b\"],[0.6666666666666666,\"#ed7953\"],[0.7777777777777778,\"#fb9f3a\"],[0.8888888888888888,\"#fdca26\"],[1.0,\"#f0f921\"]],\"type\":\"surface\"}],\"table\":[{\"cells\":{\"fill\":{\"color\":\"#506784\"},\"line\":{\"color\":\"rgb(17,17,17)\"}},\"header\":{\"fill\":{\"color\":\"#2a3f5f\"},\"line\":{\"color\":\"rgb(17,17,17)\"}},\"type\":\"table\"}]},\"layout\":{\"annotationdefaults\":{\"arrowcolor\":\"#f2f5fa\",\"arrowhead\":0,\"arrowwidth\":1},\"autotypenumbers\":\"strict\",\"coloraxis\":{\"colorbar\":{\"outlinewidth\":0,\"ticks\":\"\"}},\"colorscale\":{\"diverging\":[[0,\"#8e0152\"],[0.1,\"#c51b7d\"],[0.2,\"#de77ae\"],[0.3,\"#f1b6da\"],[0.4,\"#fde0ef\"],[0.5,\"#f7f7f7\"],[0.6,\"#e6f5d0\"],[0.7,\"#b8e186\"],[0.8,\"#7fbc41\"],[0.9,\"#4d9221\"],[1,\"#276419\"]],\"sequential\":[[0.0,\"#0d0887\"],[0.1111111111111111,\"#46039f\"],[0.2222222222222222,\"#7201a8\"],[0.3333333333333333,\"#9c179e\"],[0.4444444444444444,\"#bd3786\"],[0.5555555555555556,\"#d8576b\"],[0.6666666666666666,\"#ed7953\"],[0.7777777777777778,\"#fb9f3a\"],[0.8888888888888888,\"#fdca26\"],[1.0,\"#f0f921\"]],\"sequentialminus\":[[0.0,\"#0d0887\"],[0.1111111111111111,\"#46039f\"],[0.2222222222222222,\"#7201a8\"],[0.3333333333333333,\"#9c179e\"],[0.4444444444444444,\"#bd3786\"],[0.5555555555555556,\"#d8576b\"],[0.6666666666666666,\"#ed7953\"],[0.7777777777777778,\"#fb9f3a\"],[0.8888888888888888,\"#fdca26\"],[1.0,\"#f0f921\"]]},\"colorway\":[\"#636efa\",\"#EF553B\",\"#00cc96\",\"#ab63fa\",\"#FFA15A\",\"#19d3f3\",\"#FF6692\",\"#B6E880\",\"#FF97FF\",\"#FECB52\"],\"font\":{\"color\":\"#f2f5fa\"},\"geo\":{\"bgcolor\":\"rgb(17,17,17)\",\"lakecolor\":\"rgb(17,17,17)\",\"landcolor\":\"rgb(17,17,17)\",\"showlakes\":true,\"showland\":true,\"subunitcolor\":\"#506784\"},\"hoverlabel\":{\"align\":\"left\"},\"hovermode\":\"closest\",\"mapbox\":{\"style\":\"dark\"},\"paper_bgcolor\":\"rgb(17,17,17)\",\"plot_bgcolor\":\"rgb(17,17,17)\",\"polar\":{\"angularaxis\":{\"gridcolor\":\"#506784\",\"linecolor\":\"#506784\",\"ticks\":\"\"},\"bgcolor\":\"rgb(17,17,17)\",\"radialaxis\":{\"gridcolor\":\"#506784\",\"linecolor\":\"#506784\",\"ticks\":\"\"}},\"scene\":{\"xaxis\":{\"backgroundcolor\":\"rgb(17,17,17)\",\"gridcolor\":\"#506784\",\"gridwidth\":2,\"linecolor\":\"#506784\",\"showbackground\":true,\"ticks\":\"\",\"zerolinecolor\":\"#C8D4E3\"},\"yaxis\":{\"backgroundcolor\":\"rgb(17,17,17)\",\"gridcolor\":\"#506784\",\"gridwidth\":2,\"linecolor\":\"#506784\",\"showbackground\":true,\"ticks\":\"\",\"zerolinecolor\":\"#C8D4E3\"},\"zaxis\":{\"backgroundcolor\":\"rgb(17,17,17)\",\"gridcolor\":\"#506784\",\"gridwidth\":2,\"linecolor\":\"#506784\",\"showbackground\":true,\"ticks\":\"\",\"zerolinecolor\":\"#C8D4E3\"}},\"shapedefaults\":{\"line\":{\"color\":\"#f2f5fa\"}},\"sliderdefaults\":{\"bgcolor\":\"#C8D4E3\",\"bordercolor\":\"rgb(17,17,17)\",\"borderwidth\":1,\"tickwidth\":0},\"ternary\":{\"aaxis\":{\"gridcolor\":\"#506784\",\"linecolor\":\"#506784\",\"ticks\":\"\"},\"baxis\":{\"gridcolor\":\"#506784\",\"linecolor\":\"#506784\",\"ticks\":\"\"},\"bgcolor\":\"rgb(17,17,17)\",\"caxis\":{\"gridcolor\":\"#506784\",\"linecolor\":\"#506784\",\"ticks\":\"\"}},\"title\":{\"x\":0.05},\"updatemenudefaults\":{\"bgcolor\":\"#506784\",\"borderwidth\":0},\"xaxis\":{\"automargin\":true,\"gridcolor\":\"#283442\",\"linecolor\":\"#506784\",\"ticks\":\"\",\"title\":{\"standoff\":15},\"zerolinecolor\":\"#283442\",\"zerolinewidth\":2},\"yaxis\":{\"automargin\":true,\"gridcolor\":\"#283442\",\"linecolor\":\"#506784\",\"ticks\":\"\",\"title\":{\"standoff\":15},\"zerolinecolor\":\"#283442\",\"zerolinewidth\":2}}},\"title\":{\"text\":\"NFLX Options Volume\"},\"xaxis\":{\"anchor\":\"y\",\"domain\":[0.0,1.0],\"title\":{\"text\":\"strike\"}},\"yaxis\":{\"anchor\":\"x\",\"domain\":[0.0,1.0],\"title\":{\"text\":\"volume\"}}},                        {\"responsive\": true}                    ).then(function(){\n                            \nvar gd = document.getElementById('191132a2-6126-402d-9035-ce32a6daca83');\nvar x = new MutationObserver(function (mutations, observer) {{\n        var display = window.getComputedStyle(gd).display;\n        if (!display || display === 'none') {{\n            console.log([gd, 'removed!']);\n            Plotly.purge(gd);\n            observer.disconnect();\n        }}\n}});\n\n// Listen for the removal of the full notebook cells\nvar notebookContainer = gd.closest('#notebook-container');\nif (notebookContainer) {{\n    x.observe(notebookContainer, {childList: true});\n}}\n\n// Listen for the clearing of the current output cell\nvar outputEl = gd.closest('.output');\nif (outputEl) {{\n    x.observe(outputEl, {childList: true});\n}}\n\n                        })                };                            </script>        </div>\n</body>\n</html>"
     },
     "metadata": {},
     "output_type": "display_data"
    }
   ],
   "execution_count": 25
  },
  {
   "cell_type": "code",
   "source": "# Options Open Interest\nfig = px.bar(df_options, x=\"strike\", y=\"openInterest\", color=\"Option\",title=\"{} Options Open Interest\".format(symbol), template = \"plotly_dark\")\nfig.show()",
   "metadata": {
    "tags": [],
    "cell_id": "00006-63d38123-57b3-44e7-ae47-2c98b7d1f85e",
    "deepnote_to_be_reexecuted": false,
    "source_hash": "368d0362",
    "execution_start": 1627318630476,
    "execution_millis": 51,
    "deepnote_cell_type": "code"
   },
   "outputs": [
    {
     "data": {
      "text/html": "<html>\n<head><meta charset=\"utf-8\" /></head>\n<body>\n    <div>            <script src=\"https://cdnjs.cloudflare.com/ajax/libs/mathjax/2.7.5/MathJax.js?config=TeX-AMS-MML_SVG\"></script><script type=\"text/javascript\">if (window.MathJax) {MathJax.Hub.Config({SVG: {font: \"STIX-Web\"}});}</script>                <script type=\"text/javascript\">window.PlotlyConfig = {MathJaxConfig: 'local'};</script>\n        <script src=\"https://cdn.plot.ly/plotly-2.2.0.min.js\"></script>                <div id=\"5dccf28e-c56b-47f9-bc5c-abffdbac755e\" class=\"plotly-graph-div\" style=\"height:525px; width:100%;\"></div>            <script type=\"text/javascript\">                                    window.PLOTLYENV=window.PLOTLYENV || {};                                    if (document.getElementById(\"5dccf28e-c56b-47f9-bc5c-abffdbac755e\")) {                    Plotly.newPlot(                        \"5dccf28e-c56b-47f9-bc5c-abffdbac755e\",                        [{\"alignmentgroup\":\"True\",\"hovertemplate\":\"Option=CALL<br>strike=%{x}<br>openInterest=%{y}<extra></extra>\",\"legendgroup\":\"CALL\",\"marker\":{\"color\":\"#636efa\",\"pattern\":{\"shape\":\"\"}},\"name\":\"CALL\",\"offsetgroup\":\"CALL\",\"orientation\":\"v\",\"showlegend\":true,\"textposition\":\"auto\",\"type\":\"bar\",\"x\":[400.0,450.0,455.0,460.0,465.0,470.0,475.0,480.0,485.0,490.0,495.0,500.0,505.0,510.0,515.0,520.0,525.0,530.0,535.0,540.0,545.0,550.0,555.0,560.0,565.0,570.0,575.0,580.0,590.0,600.0,610.0,620.0,630.0,640.0,650.0,660.0,670.0,680.0,690.0,700.0,710.0,720.0,740.0,760.0,770.0,790.0,800.0],\"xaxis\":\"x\",\"y\":[2,1,42,7,47,27,1,18,22,85,6,41,117,69,108,50,1008,145,82,158,102,163,123,65,54,129,67,125,66,100,51,116,131,216,209,31,203,6,25,90,5,9,63,23,13,1,20],\"yaxis\":\"y\"},{\"alignmentgroup\":\"True\",\"hovertemplate\":\"Option=PUT<br>strike=%{x}<br>openInterest=%{y}<extra></extra>\",\"legendgroup\":\"PUT\",\"marker\":{\"color\":\"#EF553B\",\"pattern\":{\"shape\":\"\"}},\"name\":\"PUT\",\"offsetgroup\":\"PUT\",\"orientation\":\"v\",\"showlegend\":true,\"textposition\":\"auto\",\"type\":\"bar\",\"x\":[300.0,310.0,320.0,330.0,350.0,370.0,375.0,380.0,385.0,390.0,395.0,400.0,405.0,410.0,415.0,420.0,425.0,430.0,435.0,440.0,445.0,450.0,455.0,460.0,465.0,470.0,475.0,480.0,485.0,490.0,495.0,500.0,505.0,510.0,515.0,520.0,525.0,530.0,535.0,540.0,545.0,550.0,560.0,565.0,570.0,575.0,580.0,590.0],\"xaxis\":\"x\",\"y\":[3,5,6,3,5,1,1,3,4,4,15,12,3,9,8,20,4,39,332,50,62,62,255,176,372,671,314,553,212,237,149,274,198,219,74,69,129,72,106,59,18,13,2,1,13,1,12,2],\"yaxis\":\"y\"}],                        {\"barmode\":\"relative\",\"legend\":{\"title\":{\"text\":\"Option\"},\"tracegroupgap\":0},\"template\":{\"data\":{\"bar\":[{\"error_x\":{\"color\":\"#f2f5fa\"},\"error_y\":{\"color\":\"#f2f5fa\"},\"marker\":{\"line\":{\"color\":\"rgb(17,17,17)\",\"width\":0.5},\"pattern\":{\"fillmode\":\"overlay\",\"size\":10,\"solidity\":0.2}},\"type\":\"bar\"}],\"barpolar\":[{\"marker\":{\"line\":{\"color\":\"rgb(17,17,17)\",\"width\":0.5},\"pattern\":{\"fillmode\":\"overlay\",\"size\":10,\"solidity\":0.2}},\"type\":\"barpolar\"}],\"carpet\":[{\"aaxis\":{\"endlinecolor\":\"#A2B1C6\",\"gridcolor\":\"#506784\",\"linecolor\":\"#506784\",\"minorgridcolor\":\"#506784\",\"startlinecolor\":\"#A2B1C6\"},\"baxis\":{\"endlinecolor\":\"#A2B1C6\",\"gridcolor\":\"#506784\",\"linecolor\":\"#506784\",\"minorgridcolor\":\"#506784\",\"startlinecolor\":\"#A2B1C6\"},\"type\":\"carpet\"}],\"choropleth\":[{\"colorbar\":{\"outlinewidth\":0,\"ticks\":\"\"},\"type\":\"choropleth\"}],\"contour\":[{\"colorbar\":{\"outlinewidth\":0,\"ticks\":\"\"},\"colorscale\":[[0.0,\"#0d0887\"],[0.1111111111111111,\"#46039f\"],[0.2222222222222222,\"#7201a8\"],[0.3333333333333333,\"#9c179e\"],[0.4444444444444444,\"#bd3786\"],[0.5555555555555556,\"#d8576b\"],[0.6666666666666666,\"#ed7953\"],[0.7777777777777778,\"#fb9f3a\"],[0.8888888888888888,\"#fdca26\"],[1.0,\"#f0f921\"]],\"type\":\"contour\"}],\"contourcarpet\":[{\"colorbar\":{\"outlinewidth\":0,\"ticks\":\"\"},\"type\":\"contourcarpet\"}],\"heatmap\":[{\"colorbar\":{\"outlinewidth\":0,\"ticks\":\"\"},\"colorscale\":[[0.0,\"#0d0887\"],[0.1111111111111111,\"#46039f\"],[0.2222222222222222,\"#7201a8\"],[0.3333333333333333,\"#9c179e\"],[0.4444444444444444,\"#bd3786\"],[0.5555555555555556,\"#d8576b\"],[0.6666666666666666,\"#ed7953\"],[0.7777777777777778,\"#fb9f3a\"],[0.8888888888888888,\"#fdca26\"],[1.0,\"#f0f921\"]],\"type\":\"heatmap\"}],\"heatmapgl\":[{\"colorbar\":{\"outlinewidth\":0,\"ticks\":\"\"},\"colorscale\":[[0.0,\"#0d0887\"],[0.1111111111111111,\"#46039f\"],[0.2222222222222222,\"#7201a8\"],[0.3333333333333333,\"#9c179e\"],[0.4444444444444444,\"#bd3786\"],[0.5555555555555556,\"#d8576b\"],[0.6666666666666666,\"#ed7953\"],[0.7777777777777778,\"#fb9f3a\"],[0.8888888888888888,\"#fdca26\"],[1.0,\"#f0f921\"]],\"type\":\"heatmapgl\"}],\"histogram\":[{\"marker\":{\"pattern\":{\"fillmode\":\"overlay\",\"size\":10,\"solidity\":0.2}},\"type\":\"histogram\"}],\"histogram2d\":[{\"colorbar\":{\"outlinewidth\":0,\"ticks\":\"\"},\"colorscale\":[[0.0,\"#0d0887\"],[0.1111111111111111,\"#46039f\"],[0.2222222222222222,\"#7201a8\"],[0.3333333333333333,\"#9c179e\"],[0.4444444444444444,\"#bd3786\"],[0.5555555555555556,\"#d8576b\"],[0.6666666666666666,\"#ed7953\"],[0.7777777777777778,\"#fb9f3a\"],[0.8888888888888888,\"#fdca26\"],[1.0,\"#f0f921\"]],\"type\":\"histogram2d\"}],\"histogram2dcontour\":[{\"colorbar\":{\"outlinewidth\":0,\"ticks\":\"\"},\"colorscale\":[[0.0,\"#0d0887\"],[0.1111111111111111,\"#46039f\"],[0.2222222222222222,\"#7201a8\"],[0.3333333333333333,\"#9c179e\"],[0.4444444444444444,\"#bd3786\"],[0.5555555555555556,\"#d8576b\"],[0.6666666666666666,\"#ed7953\"],[0.7777777777777778,\"#fb9f3a\"],[0.8888888888888888,\"#fdca26\"],[1.0,\"#f0f921\"]],\"type\":\"histogram2dcontour\"}],\"mesh3d\":[{\"colorbar\":{\"outlinewidth\":0,\"ticks\":\"\"},\"type\":\"mesh3d\"}],\"parcoords\":[{\"line\":{\"colorbar\":{\"outlinewidth\":0,\"ticks\":\"\"}},\"type\":\"parcoords\"}],\"pie\":[{\"automargin\":true,\"type\":\"pie\"}],\"scatter\":[{\"marker\":{\"line\":{\"color\":\"#283442\"}},\"type\":\"scatter\"}],\"scatter3d\":[{\"line\":{\"colorbar\":{\"outlinewidth\":0,\"ticks\":\"\"}},\"marker\":{\"colorbar\":{\"outlinewidth\":0,\"ticks\":\"\"}},\"type\":\"scatter3d\"}],\"scattercarpet\":[{\"marker\":{\"colorbar\":{\"outlinewidth\":0,\"ticks\":\"\"}},\"type\":\"scattercarpet\"}],\"scattergeo\":[{\"marker\":{\"colorbar\":{\"outlinewidth\":0,\"ticks\":\"\"}},\"type\":\"scattergeo\"}],\"scattergl\":[{\"marker\":{\"line\":{\"color\":\"#283442\"}},\"type\":\"scattergl\"}],\"scattermapbox\":[{\"marker\":{\"colorbar\":{\"outlinewidth\":0,\"ticks\":\"\"}},\"type\":\"scattermapbox\"}],\"scatterpolar\":[{\"marker\":{\"colorbar\":{\"outlinewidth\":0,\"ticks\":\"\"}},\"type\":\"scatterpolar\"}],\"scatterpolargl\":[{\"marker\":{\"colorbar\":{\"outlinewidth\":0,\"ticks\":\"\"}},\"type\":\"scatterpolargl\"}],\"scatterternary\":[{\"marker\":{\"colorbar\":{\"outlinewidth\":0,\"ticks\":\"\"}},\"type\":\"scatterternary\"}],\"surface\":[{\"colorbar\":{\"outlinewidth\":0,\"ticks\":\"\"},\"colorscale\":[[0.0,\"#0d0887\"],[0.1111111111111111,\"#46039f\"],[0.2222222222222222,\"#7201a8\"],[0.3333333333333333,\"#9c179e\"],[0.4444444444444444,\"#bd3786\"],[0.5555555555555556,\"#d8576b\"],[0.6666666666666666,\"#ed7953\"],[0.7777777777777778,\"#fb9f3a\"],[0.8888888888888888,\"#fdca26\"],[1.0,\"#f0f921\"]],\"type\":\"surface\"}],\"table\":[{\"cells\":{\"fill\":{\"color\":\"#506784\"},\"line\":{\"color\":\"rgb(17,17,17)\"}},\"header\":{\"fill\":{\"color\":\"#2a3f5f\"},\"line\":{\"color\":\"rgb(17,17,17)\"}},\"type\":\"table\"}]},\"layout\":{\"annotationdefaults\":{\"arrowcolor\":\"#f2f5fa\",\"arrowhead\":0,\"arrowwidth\":1},\"autotypenumbers\":\"strict\",\"coloraxis\":{\"colorbar\":{\"outlinewidth\":0,\"ticks\":\"\"}},\"colorscale\":{\"diverging\":[[0,\"#8e0152\"],[0.1,\"#c51b7d\"],[0.2,\"#de77ae\"],[0.3,\"#f1b6da\"],[0.4,\"#fde0ef\"],[0.5,\"#f7f7f7\"],[0.6,\"#e6f5d0\"],[0.7,\"#b8e186\"],[0.8,\"#7fbc41\"],[0.9,\"#4d9221\"],[1,\"#276419\"]],\"sequential\":[[0.0,\"#0d0887\"],[0.1111111111111111,\"#46039f\"],[0.2222222222222222,\"#7201a8\"],[0.3333333333333333,\"#9c179e\"],[0.4444444444444444,\"#bd3786\"],[0.5555555555555556,\"#d8576b\"],[0.6666666666666666,\"#ed7953\"],[0.7777777777777778,\"#fb9f3a\"],[0.8888888888888888,\"#fdca26\"],[1.0,\"#f0f921\"]],\"sequentialminus\":[[0.0,\"#0d0887\"],[0.1111111111111111,\"#46039f\"],[0.2222222222222222,\"#7201a8\"],[0.3333333333333333,\"#9c179e\"],[0.4444444444444444,\"#bd3786\"],[0.5555555555555556,\"#d8576b\"],[0.6666666666666666,\"#ed7953\"],[0.7777777777777778,\"#fb9f3a\"],[0.8888888888888888,\"#fdca26\"],[1.0,\"#f0f921\"]]},\"colorway\":[\"#636efa\",\"#EF553B\",\"#00cc96\",\"#ab63fa\",\"#FFA15A\",\"#19d3f3\",\"#FF6692\",\"#B6E880\",\"#FF97FF\",\"#FECB52\"],\"font\":{\"color\":\"#f2f5fa\"},\"geo\":{\"bgcolor\":\"rgb(17,17,17)\",\"lakecolor\":\"rgb(17,17,17)\",\"landcolor\":\"rgb(17,17,17)\",\"showlakes\":true,\"showland\":true,\"subunitcolor\":\"#506784\"},\"hoverlabel\":{\"align\":\"left\"},\"hovermode\":\"closest\",\"mapbox\":{\"style\":\"dark\"},\"paper_bgcolor\":\"rgb(17,17,17)\",\"plot_bgcolor\":\"rgb(17,17,17)\",\"polar\":{\"angularaxis\":{\"gridcolor\":\"#506784\",\"linecolor\":\"#506784\",\"ticks\":\"\"},\"bgcolor\":\"rgb(17,17,17)\",\"radialaxis\":{\"gridcolor\":\"#506784\",\"linecolor\":\"#506784\",\"ticks\":\"\"}},\"scene\":{\"xaxis\":{\"backgroundcolor\":\"rgb(17,17,17)\",\"gridcolor\":\"#506784\",\"gridwidth\":2,\"linecolor\":\"#506784\",\"showbackground\":true,\"ticks\":\"\",\"zerolinecolor\":\"#C8D4E3\"},\"yaxis\":{\"backgroundcolor\":\"rgb(17,17,17)\",\"gridcolor\":\"#506784\",\"gridwidth\":2,\"linecolor\":\"#506784\",\"showbackground\":true,\"ticks\":\"\",\"zerolinecolor\":\"#C8D4E3\"},\"zaxis\":{\"backgroundcolor\":\"rgb(17,17,17)\",\"gridcolor\":\"#506784\",\"gridwidth\":2,\"linecolor\":\"#506784\",\"showbackground\":true,\"ticks\":\"\",\"zerolinecolor\":\"#C8D4E3\"}},\"shapedefaults\":{\"line\":{\"color\":\"#f2f5fa\"}},\"sliderdefaults\":{\"bgcolor\":\"#C8D4E3\",\"bordercolor\":\"rgb(17,17,17)\",\"borderwidth\":1,\"tickwidth\":0},\"ternary\":{\"aaxis\":{\"gridcolor\":\"#506784\",\"linecolor\":\"#506784\",\"ticks\":\"\"},\"baxis\":{\"gridcolor\":\"#506784\",\"linecolor\":\"#506784\",\"ticks\":\"\"},\"bgcolor\":\"rgb(17,17,17)\",\"caxis\":{\"gridcolor\":\"#506784\",\"linecolor\":\"#506784\",\"ticks\":\"\"}},\"title\":{\"x\":0.05},\"updatemenudefaults\":{\"bgcolor\":\"#506784\",\"borderwidth\":0},\"xaxis\":{\"automargin\":true,\"gridcolor\":\"#283442\",\"linecolor\":\"#506784\",\"ticks\":\"\",\"title\":{\"standoff\":15},\"zerolinecolor\":\"#283442\",\"zerolinewidth\":2},\"yaxis\":{\"automargin\":true,\"gridcolor\":\"#283442\",\"linecolor\":\"#506784\",\"ticks\":\"\",\"title\":{\"standoff\":15},\"zerolinecolor\":\"#283442\",\"zerolinewidth\":2}}},\"title\":{\"text\":\"NFLX Options Open Interest\"},\"xaxis\":{\"anchor\":\"y\",\"domain\":[0.0,1.0],\"title\":{\"text\":\"strike\"}},\"yaxis\":{\"anchor\":\"x\",\"domain\":[0.0,1.0],\"title\":{\"text\":\"openInterest\"}}},                        {\"responsive\": true}                    ).then(function(){\n                            \nvar gd = document.getElementById('5dccf28e-c56b-47f9-bc5c-abffdbac755e');\nvar x = new MutationObserver(function (mutations, observer) {{\n        var display = window.getComputedStyle(gd).display;\n        if (!display || display === 'none') {{\n            console.log([gd, 'removed!']);\n            Plotly.purge(gd);\n            observer.disconnect();\n        }}\n}});\n\n// Listen for the removal of the full notebook cells\nvar notebookContainer = gd.closest('#notebook-container');\nif (notebookContainer) {{\n    x.observe(notebookContainer, {childList: true});\n}}\n\n// Listen for the clearing of the current output cell\nvar outputEl = gd.closest('.output');\nif (outputEl) {{\n    x.observe(outputEl, {childList: true});\n}}\n\n                        })                };                            </script>        </div>\n</body>\n</html>"
     },
     "metadata": {},
     "output_type": "display_data"
    }
   ],
   "execution_count": 33
  },
  {
   "cell_type": "code",
   "source": "# Options Implied Volatility\nfig = px.bar(df_options, x=\"strike\", y=\"impliedVolatility\", color=\"Option\",title=\"{} Options Implied Volatility\".format(symbol), template = \"plotly_dark\")\nfig.show()",
   "metadata": {
    "tags": [],
    "cell_id": "00007-a32858dc-4d7d-4f47-8fad-f43886b75384",
    "deepnote_to_be_reexecuted": false,
    "source_hash": "19dfd141",
    "execution_start": 1627318621328,
    "execution_millis": 57,
    "deepnote_cell_type": "code"
   },
   "outputs": [
    {
     "data": {
      "text/html": "<html>\n<head><meta charset=\"utf-8\" /></head>\n<body>\n    <div>            <script src=\"https://cdnjs.cloudflare.com/ajax/libs/mathjax/2.7.5/MathJax.js?config=TeX-AMS-MML_SVG\"></script><script type=\"text/javascript\">if (window.MathJax) {MathJax.Hub.Config({SVG: {font: \"STIX-Web\"}});}</script>                <script type=\"text/javascript\">window.PlotlyConfig = {MathJaxConfig: 'local'};</script>\n        <script src=\"https://cdn.plot.ly/plotly-2.2.0.min.js\"></script>                <div id=\"ae69b61b-c795-4854-b257-7ccdce5b4960\" class=\"plotly-graph-div\" style=\"height:525px; width:100%;\"></div>            <script type=\"text/javascript\">                                    window.PLOTLYENV=window.PLOTLYENV || {};                                    if (document.getElementById(\"ae69b61b-c795-4854-b257-7ccdce5b4960\")) {                    Plotly.newPlot(                        \"ae69b61b-c795-4854-b257-7ccdce5b4960\",                        [{\"alignmentgroup\":\"True\",\"hovertemplate\":\"Option=CALL<br>strike=%{x}<br>impliedVolatility=%{y}<extra></extra>\",\"legendgroup\":\"CALL\",\"marker\":{\"color\":\"#636efa\",\"pattern\":{\"shape\":\"\"}},\"name\":\"CALL\",\"offsetgroup\":\"CALL\",\"orientation\":\"v\",\"showlegend\":true,\"textposition\":\"auto\",\"type\":\"bar\",\"x\":[400.0,450.0,455.0,460.0,465.0,470.0,475.0,480.0,485.0,490.0,495.0,500.0,505.0,510.0,515.0,520.0,525.0,530.0,535.0,540.0,545.0,550.0,555.0,560.0,565.0,570.0,575.0,580.0,590.0,600.0,610.0,620.0,630.0,640.0,650.0,660.0,670.0,680.0,690.0,700.0,710.0,720.0,740.0,760.0,770.0,790.0,800.0],\"xaxis\":\"x\",\"y\":[0.553837469482422,0.38269660278320305,0.37085590087890624,0.35144691528320304,0.35095863891601553,0.3284674087524414,0.3161079132080078,0.30097134582519536,0.2934335794067382,0.28232529205322265,0.2775951147460937,0.26605958557128906,0.25522595367431644,0.25785043914794925,0.2506483627319336,0.2467421517944336,0.25003801727294916,0.24597921997070313,0.2470473245239258,0.24408714904785156,0.2474745663452148,0.24732197998046873,0.24896991271972657,0.24964129272460936,0.25427991821289064,0.2555616436767578,0.26093268371582035,0.26593751647949215,0.2745433874511719,0.2955392712402344,0.3129951513671875,0.32813171874999997,0.34400070068359373,0.34278000976562495,0.37280900634765624,0.38892212646484375,0.4023497265625,0.41602146484374997,0.4265194067382813,0.4409235595703125,0.45264219238281256,0.46582565429687506,0.4892629199218751,0.5117236328125,0.5239305419921875,0.507817421875,0.5185595019531251],\"yaxis\":\"y\"},{\"alignmentgroup\":\"True\",\"hovertemplate\":\"Option=PUT<br>strike=%{x}<br>impliedVolatility=%{y}<extra></extra>\",\"legendgroup\":\"PUT\",\"marker\":{\"color\":\"#EF553B\",\"pattern\":{\"shape\":\"\"}},\"name\":\"PUT\",\"offsetgroup\":\"PUT\",\"orientation\":\"v\",\"showlegend\":true,\"textposition\":\"auto\",\"type\":\"bar\",\"x\":[300.0,310.0,320.0,330.0,350.0,370.0,375.0,380.0,385.0,390.0,395.0,400.0,405.0,410.0,415.0,420.0,425.0,430.0,435.0,440.0,445.0,450.0,455.0,460.0,465.0,470.0,475.0,480.0,485.0,490.0,495.0,500.0,505.0,510.0,515.0,520.0,525.0,530.0,535.0,540.0,545.0,550.0,560.0,565.0,570.0,575.0,580.0,590.0],\"xaxis\":\"x\",\"y\":[0.6699251757812501,0.64062859375,0.6103554589843752,0.5800823242187501,0.51758294921875,0.5009815527343751,0.48291532714843755,0.46973186523437505,0.45606012695312503,0.44434149414062496,0.4318904467773438,0.418951123046875,0.407232490234375,0.3947814428710938,0.3830628100585937,0.37183245361328127,0.3618227880859375,0.3491276025390625,0.33814138427734375,0.3284979260253906,0.3181220532226562,0.3055489367675781,0.29871306762695304,0.2867502966308593,0.27924304748535156,0.2720409710693359,0.26593751647949215,0.2591016473388672,0.2553785400390626,0.25269302001953126,0.24829853271484376,0.24588766815185548,0.24390404541015626,0.24283594085693355,0.24164576721191405,0.24585715087890625,0.23938748901367185,0.24506370178222658,0.24436180450439454,0.24585715087890625,0.24536887451171874,0.250434741821289,0.2623975128173829,0.266608896484375,0.26972165832519535,0.29291478576660146,0.30152065673828127,0.31116411499023433],\"yaxis\":\"y\"}],                        {\"barmode\":\"relative\",\"legend\":{\"title\":{\"text\":\"Option\"},\"tracegroupgap\":0},\"template\":{\"data\":{\"bar\":[{\"error_x\":{\"color\":\"#f2f5fa\"},\"error_y\":{\"color\":\"#f2f5fa\"},\"marker\":{\"line\":{\"color\":\"rgb(17,17,17)\",\"width\":0.5},\"pattern\":{\"fillmode\":\"overlay\",\"size\":10,\"solidity\":0.2}},\"type\":\"bar\"}],\"barpolar\":[{\"marker\":{\"line\":{\"color\":\"rgb(17,17,17)\",\"width\":0.5},\"pattern\":{\"fillmode\":\"overlay\",\"size\":10,\"solidity\":0.2}},\"type\":\"barpolar\"}],\"carpet\":[{\"aaxis\":{\"endlinecolor\":\"#A2B1C6\",\"gridcolor\":\"#506784\",\"linecolor\":\"#506784\",\"minorgridcolor\":\"#506784\",\"startlinecolor\":\"#A2B1C6\"},\"baxis\":{\"endlinecolor\":\"#A2B1C6\",\"gridcolor\":\"#506784\",\"linecolor\":\"#506784\",\"minorgridcolor\":\"#506784\",\"startlinecolor\":\"#A2B1C6\"},\"type\":\"carpet\"}],\"choropleth\":[{\"colorbar\":{\"outlinewidth\":0,\"ticks\":\"\"},\"type\":\"choropleth\"}],\"contour\":[{\"colorbar\":{\"outlinewidth\":0,\"ticks\":\"\"},\"colorscale\":[[0.0,\"#0d0887\"],[0.1111111111111111,\"#46039f\"],[0.2222222222222222,\"#7201a8\"],[0.3333333333333333,\"#9c179e\"],[0.4444444444444444,\"#bd3786\"],[0.5555555555555556,\"#d8576b\"],[0.6666666666666666,\"#ed7953\"],[0.7777777777777778,\"#fb9f3a\"],[0.8888888888888888,\"#fdca26\"],[1.0,\"#f0f921\"]],\"type\":\"contour\"}],\"contourcarpet\":[{\"colorbar\":{\"outlinewidth\":0,\"ticks\":\"\"},\"type\":\"contourcarpet\"}],\"heatmap\":[{\"colorbar\":{\"outlinewidth\":0,\"ticks\":\"\"},\"colorscale\":[[0.0,\"#0d0887\"],[0.1111111111111111,\"#46039f\"],[0.2222222222222222,\"#7201a8\"],[0.3333333333333333,\"#9c179e\"],[0.4444444444444444,\"#bd3786\"],[0.5555555555555556,\"#d8576b\"],[0.6666666666666666,\"#ed7953\"],[0.7777777777777778,\"#fb9f3a\"],[0.8888888888888888,\"#fdca26\"],[1.0,\"#f0f921\"]],\"type\":\"heatmap\"}],\"heatmapgl\":[{\"colorbar\":{\"outlinewidth\":0,\"ticks\":\"\"},\"colorscale\":[[0.0,\"#0d0887\"],[0.1111111111111111,\"#46039f\"],[0.2222222222222222,\"#7201a8\"],[0.3333333333333333,\"#9c179e\"],[0.4444444444444444,\"#bd3786\"],[0.5555555555555556,\"#d8576b\"],[0.6666666666666666,\"#ed7953\"],[0.7777777777777778,\"#fb9f3a\"],[0.8888888888888888,\"#fdca26\"],[1.0,\"#f0f921\"]],\"type\":\"heatmapgl\"}],\"histogram\":[{\"marker\":{\"pattern\":{\"fillmode\":\"overlay\",\"size\":10,\"solidity\":0.2}},\"type\":\"histogram\"}],\"histogram2d\":[{\"colorbar\":{\"outlinewidth\":0,\"ticks\":\"\"},\"colorscale\":[[0.0,\"#0d0887\"],[0.1111111111111111,\"#46039f\"],[0.2222222222222222,\"#7201a8\"],[0.3333333333333333,\"#9c179e\"],[0.4444444444444444,\"#bd3786\"],[0.5555555555555556,\"#d8576b\"],[0.6666666666666666,\"#ed7953\"],[0.7777777777777778,\"#fb9f3a\"],[0.8888888888888888,\"#fdca26\"],[1.0,\"#f0f921\"]],\"type\":\"histogram2d\"}],\"histogram2dcontour\":[{\"colorbar\":{\"outlinewidth\":0,\"ticks\":\"\"},\"colorscale\":[[0.0,\"#0d0887\"],[0.1111111111111111,\"#46039f\"],[0.2222222222222222,\"#7201a8\"],[0.3333333333333333,\"#9c179e\"],[0.4444444444444444,\"#bd3786\"],[0.5555555555555556,\"#d8576b\"],[0.6666666666666666,\"#ed7953\"],[0.7777777777777778,\"#fb9f3a\"],[0.8888888888888888,\"#fdca26\"],[1.0,\"#f0f921\"]],\"type\":\"histogram2dcontour\"}],\"mesh3d\":[{\"colorbar\":{\"outlinewidth\":0,\"ticks\":\"\"},\"type\":\"mesh3d\"}],\"parcoords\":[{\"line\":{\"colorbar\":{\"outlinewidth\":0,\"ticks\":\"\"}},\"type\":\"parcoords\"}],\"pie\":[{\"automargin\":true,\"type\":\"pie\"}],\"scatter\":[{\"marker\":{\"line\":{\"color\":\"#283442\"}},\"type\":\"scatter\"}],\"scatter3d\":[{\"line\":{\"colorbar\":{\"outlinewidth\":0,\"ticks\":\"\"}},\"marker\":{\"colorbar\":{\"outlinewidth\":0,\"ticks\":\"\"}},\"type\":\"scatter3d\"}],\"scattercarpet\":[{\"marker\":{\"colorbar\":{\"outlinewidth\":0,\"ticks\":\"\"}},\"type\":\"scattercarpet\"}],\"scattergeo\":[{\"marker\":{\"colorbar\":{\"outlinewidth\":0,\"ticks\":\"\"}},\"type\":\"scattergeo\"}],\"scattergl\":[{\"marker\":{\"line\":{\"color\":\"#283442\"}},\"type\":\"scattergl\"}],\"scattermapbox\":[{\"marker\":{\"colorbar\":{\"outlinewidth\":0,\"ticks\":\"\"}},\"type\":\"scattermapbox\"}],\"scatterpolar\":[{\"marker\":{\"colorbar\":{\"outlinewidth\":0,\"ticks\":\"\"}},\"type\":\"scatterpolar\"}],\"scatterpolargl\":[{\"marker\":{\"colorbar\":{\"outlinewidth\":0,\"ticks\":\"\"}},\"type\":\"scatterpolargl\"}],\"scatterternary\":[{\"marker\":{\"colorbar\":{\"outlinewidth\":0,\"ticks\":\"\"}},\"type\":\"scatterternary\"}],\"surface\":[{\"colorbar\":{\"outlinewidth\":0,\"ticks\":\"\"},\"colorscale\":[[0.0,\"#0d0887\"],[0.1111111111111111,\"#46039f\"],[0.2222222222222222,\"#7201a8\"],[0.3333333333333333,\"#9c179e\"],[0.4444444444444444,\"#bd3786\"],[0.5555555555555556,\"#d8576b\"],[0.6666666666666666,\"#ed7953\"],[0.7777777777777778,\"#fb9f3a\"],[0.8888888888888888,\"#fdca26\"],[1.0,\"#f0f921\"]],\"type\":\"surface\"}],\"table\":[{\"cells\":{\"fill\":{\"color\":\"#506784\"},\"line\":{\"color\":\"rgb(17,17,17)\"}},\"header\":{\"fill\":{\"color\":\"#2a3f5f\"},\"line\":{\"color\":\"rgb(17,17,17)\"}},\"type\":\"table\"}]},\"layout\":{\"annotationdefaults\":{\"arrowcolor\":\"#f2f5fa\",\"arrowhead\":0,\"arrowwidth\":1},\"autotypenumbers\":\"strict\",\"coloraxis\":{\"colorbar\":{\"outlinewidth\":0,\"ticks\":\"\"}},\"colorscale\":{\"diverging\":[[0,\"#8e0152\"],[0.1,\"#c51b7d\"],[0.2,\"#de77ae\"],[0.3,\"#f1b6da\"],[0.4,\"#fde0ef\"],[0.5,\"#f7f7f7\"],[0.6,\"#e6f5d0\"],[0.7,\"#b8e186\"],[0.8,\"#7fbc41\"],[0.9,\"#4d9221\"],[1,\"#276419\"]],\"sequential\":[[0.0,\"#0d0887\"],[0.1111111111111111,\"#46039f\"],[0.2222222222222222,\"#7201a8\"],[0.3333333333333333,\"#9c179e\"],[0.4444444444444444,\"#bd3786\"],[0.5555555555555556,\"#d8576b\"],[0.6666666666666666,\"#ed7953\"],[0.7777777777777778,\"#fb9f3a\"],[0.8888888888888888,\"#fdca26\"],[1.0,\"#f0f921\"]],\"sequentialminus\":[[0.0,\"#0d0887\"],[0.1111111111111111,\"#46039f\"],[0.2222222222222222,\"#7201a8\"],[0.3333333333333333,\"#9c179e\"],[0.4444444444444444,\"#bd3786\"],[0.5555555555555556,\"#d8576b\"],[0.6666666666666666,\"#ed7953\"],[0.7777777777777778,\"#fb9f3a\"],[0.8888888888888888,\"#fdca26\"],[1.0,\"#f0f921\"]]},\"colorway\":[\"#636efa\",\"#EF553B\",\"#00cc96\",\"#ab63fa\",\"#FFA15A\",\"#19d3f3\",\"#FF6692\",\"#B6E880\",\"#FF97FF\",\"#FECB52\"],\"font\":{\"color\":\"#f2f5fa\"},\"geo\":{\"bgcolor\":\"rgb(17,17,17)\",\"lakecolor\":\"rgb(17,17,17)\",\"landcolor\":\"rgb(17,17,17)\",\"showlakes\":true,\"showland\":true,\"subunitcolor\":\"#506784\"},\"hoverlabel\":{\"align\":\"left\"},\"hovermode\":\"closest\",\"mapbox\":{\"style\":\"dark\"},\"paper_bgcolor\":\"rgb(17,17,17)\",\"plot_bgcolor\":\"rgb(17,17,17)\",\"polar\":{\"angularaxis\":{\"gridcolor\":\"#506784\",\"linecolor\":\"#506784\",\"ticks\":\"\"},\"bgcolor\":\"rgb(17,17,17)\",\"radialaxis\":{\"gridcolor\":\"#506784\",\"linecolor\":\"#506784\",\"ticks\":\"\"}},\"scene\":{\"xaxis\":{\"backgroundcolor\":\"rgb(17,17,17)\",\"gridcolor\":\"#506784\",\"gridwidth\":2,\"linecolor\":\"#506784\",\"showbackground\":true,\"ticks\":\"\",\"zerolinecolor\":\"#C8D4E3\"},\"yaxis\":{\"backgroundcolor\":\"rgb(17,17,17)\",\"gridcolor\":\"#506784\",\"gridwidth\":2,\"linecolor\":\"#506784\",\"showbackground\":true,\"ticks\":\"\",\"zerolinecolor\":\"#C8D4E3\"},\"zaxis\":{\"backgroundcolor\":\"rgb(17,17,17)\",\"gridcolor\":\"#506784\",\"gridwidth\":2,\"linecolor\":\"#506784\",\"showbackground\":true,\"ticks\":\"\",\"zerolinecolor\":\"#C8D4E3\"}},\"shapedefaults\":{\"line\":{\"color\":\"#f2f5fa\"}},\"sliderdefaults\":{\"bgcolor\":\"#C8D4E3\",\"bordercolor\":\"rgb(17,17,17)\",\"borderwidth\":1,\"tickwidth\":0},\"ternary\":{\"aaxis\":{\"gridcolor\":\"#506784\",\"linecolor\":\"#506784\",\"ticks\":\"\"},\"baxis\":{\"gridcolor\":\"#506784\",\"linecolor\":\"#506784\",\"ticks\":\"\"},\"bgcolor\":\"rgb(17,17,17)\",\"caxis\":{\"gridcolor\":\"#506784\",\"linecolor\":\"#506784\",\"ticks\":\"\"}},\"title\":{\"x\":0.05},\"updatemenudefaults\":{\"bgcolor\":\"#506784\",\"borderwidth\":0},\"xaxis\":{\"automargin\":true,\"gridcolor\":\"#283442\",\"linecolor\":\"#506784\",\"ticks\":\"\",\"title\":{\"standoff\":15},\"zerolinecolor\":\"#283442\",\"zerolinewidth\":2},\"yaxis\":{\"automargin\":true,\"gridcolor\":\"#283442\",\"linecolor\":\"#506784\",\"ticks\":\"\",\"title\":{\"standoff\":15},\"zerolinecolor\":\"#283442\",\"zerolinewidth\":2}}},\"title\":{\"text\":\"NFLX Options Implied Volatility\"},\"xaxis\":{\"anchor\":\"y\",\"domain\":[0.0,1.0],\"title\":{\"text\":\"strike\"}},\"yaxis\":{\"anchor\":\"x\",\"domain\":[0.0,1.0],\"title\":{\"text\":\"impliedVolatility\"}}},                        {\"responsive\": true}                    ).then(function(){\n                            \nvar gd = document.getElementById('ae69b61b-c795-4854-b257-7ccdce5b4960');\nvar x = new MutationObserver(function (mutations, observer) {{\n        var display = window.getComputedStyle(gd).display;\n        if (!display || display === 'none') {{\n            console.log([gd, 'removed!']);\n            Plotly.purge(gd);\n            observer.disconnect();\n        }}\n}});\n\n// Listen for the removal of the full notebook cells\nvar notebookContainer = gd.closest('#notebook-container');\nif (notebookContainer) {{\n    x.observe(notebookContainer, {childList: true});\n}}\n\n// Listen for the clearing of the current output cell\nvar outputEl = gd.closest('.output');\nif (outputEl) {{\n    x.observe(outputEl, {childList: true});\n}}\n\n                        })                };                            </script>        </div>\n</body>\n</html>"
     },
     "metadata": {},
     "output_type": "display_data"
    }
   ],
   "execution_count": 32
  },
  {
   "cell_type": "code",
   "source": "",
   "metadata": {
    "tags": [],
    "cell_id": "00008-e91e7cb6-4a01-475e-a99e-f3576b28a22f",
    "deepnote_cell_type": "code"
   },
   "outputs": [],
   "execution_count": null
  },
  {
   "cell_type": "markdown",
   "source": "<a style='text-decoration:none;line-height:16px;display:flex;color:#5B5B62;padding:10px;justify-content:end;' href='https://deepnote.com?utm_source=created-in-deepnote-cell&projectId=0e8a684d-b3be-43c1-8a26-4541de0f5155' target=\"_blank\">\n<img alt='Created in deepnote.com' style='display:inline;max-height:16px;margin:0px;margin-right:7.5px;' src='data:image/svg+xml;base64,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' > </img>\nCreated in <span style='font-weight:600;margin-left:4px;'>Deepnote</span></a>",
   "metadata": {
    "tags": [],
    "created_in_deepnote_cell": true,
    "deepnote_cell_type": "markdown"
   }
  }
 ],
 "nbformat": 4,
 "nbformat_minor": 2,
 "metadata": {
  "orig_nbformat": 2,
  "deepnote": {
   "is_reactive": false
  },
  "deepnote_notebook_id": "e35fa7b0-c514-4ea5-b53b-5b6c2c645d5b",
  "deepnote_execution_queue": []
 }
}